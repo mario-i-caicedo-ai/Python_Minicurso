{
  "nbformat": 4,
  "nbformat_minor": 0,
  "metadata": {
    "colab": {
      "name": "ESTRUCTURAS_DE_CONTROL.ipynb",
      "provenance": [],
      "collapsed_sections": [],
      "include_colab_link": true
    },
    "kernelspec": {
      "name": "python3",
      "display_name": "Python 3"
    }
  },
  "cells": [
    {
      "cell_type": "markdown",
      "metadata": {
        "id": "view-in-github",
        "colab_type": "text"
      },
      "source": [
        "<a href=\"https://colab.research.google.com/github/mario-i-caicedo-ai/Python_Minicurso/blob/main/Cuadernos_Jupyter/ESTRUCTURAS_DE_CONTROL.ipynb\" target=\"_parent\"><img src=\"https://colab.research.google.com/assets/colab-badge.svg\" alt=\"Open In Colab\"/></a>"
      ]
    },
    {
      "cell_type": "markdown",
      "source": [
        "# **CONTROL de ejecución Python**\n",
        "\n",
        "* El flujo de ejecución un programa es el orden en que se ejecuta el código del programa\n",
        "\n",
        "* El flujo de ejecución un programa puede controlarse a través de bifurcaciones y lazos, por ejemplo.\n",
        "\n",
        "* El flujo en Python es\n",
        "\n",
        "  * Secuencial (el modo estándar o usual de flujo) \n",
        "  * Selectivo (a través de tomas de decisión y ramificaciones asociadas). Este régimen es regulado por las **Declaraciones condicionales**, if elif, etc. \n",
        "  * Repetitivo, es decir, ejecución reiterada de bloques de código (**Ciclos**) for y while.  \n",
        "  * Llamadas a funciones.\n",
        "\n"
      ],
      "metadata": {
        "id": "7V4ErwyZMc6F"
      }
    },
    {
      "cell_type": "markdown",
      "source": [
        "------------------------------------------------------------------------"
      ],
      "metadata": {
        "id": "BRFI9-swK6dA"
      }
    },
    {
      "cell_type": "markdown",
      "source": [
        "## Flujo Secuencial\n",
        "\n",
        "Ocurre cuando un bloque de instrucciones se ejecutan en el mismo orden en que están escritas."
      ],
      "metadata": {
        "id": "ShHfEC5Hhdur"
      }
    },
    {
      "cell_type": "code",
      "source": [
        "a=20\n",
        "b=10\n",
        "sum=a-b\n",
        "prod=a*b\n",
        "print(\"La diferencia entre a y b es: \",sum,'\\n')\n",
        "print(\"El producto de a y b es: \",prod,'\\n')"
      ],
      "metadata": {
        "colab": {
          "base_uri": "https://localhost:8080/"
        },
        "id": "dW5fz-9whcN1",
        "outputId": "733fc1e1-bfb1-42d6-cc93-02edfb2da2fd"
      },
      "execution_count": 3,
      "outputs": [
        {
          "output_type": "stream",
          "name": "stdout",
          "text": [
            "La diferencia entre a y b es:  10 \n",
            "\n",
            "El producto de a y b es:  200 \n",
            "\n"
          ]
        }
      ]
    },
    {
      "cell_type": "markdown",
      "source": [
        "------------------------------------------------------------------------"
      ],
      "metadata": {
        "id": "M1Ps0XVcLpDR"
      }
    },
    {
      "cell_type": "markdown",
      "source": [
        "## Declaraciones de control\n",
        "\n",
        "Las declaraciones de control que provocan ramificaciones en el flujo de un programa en Python son:\n",
        "\n",
        "* if simple\n",
        "\n",
        "* if-else\n",
        "\n",
        "* if anidados\n",
        "\n",
        "* if-elif-else\n"
      ],
      "metadata": {
        "id": "DDYwkamFiMD2"
      }
    },
    {
      "cell_type": "markdown",
      "source": [
        "### If simple\n",
        "\n",
        "Esta declaración permite que se ejecute un bloque de código cuando se satisface alguna (una sola) condición"
      ],
      "metadata": {
        "id": "3FMiY2TRiSR9"
      }
    },
    {
      "cell_type": "code",
      "source": [
        "a = 50\n",
        "b = 100\n",
        "if b > a:\n",
        "  print(\"b es mayor que a\") # Por favor note que la sintaxis incluye los dos puntos y la indentación"
      ],
      "metadata": {
        "colab": {
          "base_uri": "https://localhost:8080/"
        },
        "id": "-vfKpV9wX2C-",
        "outputId": "a65bfb43-31cd-4a26-d6d5-e9a95be5d778"
      },
      "execution_count": 4,
      "outputs": [
        {
          "output_type": "stream",
          "name": "stdout",
          "text": [
            "b es mayor que a\n"
          ]
        }
      ]
    },
    {
      "cell_type": "markdown",
      "source": [
        "**If corto**, a veces conviene escribir en una sola línea"
      ],
      "metadata": {
        "id": "UqoHdP4isjC4"
      }
    },
    {
      "cell_type": "code",
      "source": [
        "a=5\n",
        "b=2\n",
        "if a > b: print(\"a es mayor que b\")"
      ],
      "metadata": {
        "colab": {
          "base_uri": "https://localhost:8080/"
        },
        "id": "-Hl3hKBYsgj3",
        "outputId": "bd87856b-c625-49ea-a5fd-9402753e7d61"
      },
      "execution_count": 5,
      "outputs": [
        {
          "output_type": "stream",
          "name": "stdout",
          "text": [
            "a es mayor que b\n"
          ]
        }
      ]
    },
    {
      "cell_type": "markdown",
      "source": [
        "## if elif\n",
        "\n",
        "La combinación if elif permite examinar varias condiciones"
      ],
      "metadata": {
        "id": "pMBIbwKFir84"
      }
    },
    {
      "cell_type": "code",
      "source": [
        "a = 10\n",
        "b = 10\n",
        "if b > a:\n",
        "  print(\"b es mayor que a\")\n",
        "elif a == b:\n",
        "  print(\"a y b son iguales\")"
      ],
      "metadata": {
        "colab": {
          "base_uri": "https://localhost:8080/"
        },
        "id": "bnaRGQyHYDRI",
        "outputId": "51f7c767-6951-45e0-e2e8-d981555da3cc"
      },
      "execution_count": 6,
      "outputs": [
        {
          "output_type": "stream",
          "name": "stdout",
          "text": [
            "a y b son iguales\n"
          ]
        }
      ]
    },
    {
      "cell_type": "markdown",
      "source": [
        "## Else\n",
        "\n",
        "Esta instrucción se usa para considerar una condición que no se haya tomadol en cuenta antes."
      ],
      "metadata": {
        "id": "Jl6v45VxjmRC"
      }
    },
    {
      "cell_type": "code",
      "source": [
        "a = 100\n",
        "b = 50\n",
        "if b > a:\n",
        "  print(\"b es mayor que a\")\n",
        "elif a == b:\n",
        "  print(\"a y b son iguales\")\n",
        "else:\n",
        "  print(\"a es mayor que b\")"
      ],
      "metadata": {
        "colab": {
          "base_uri": "https://localhost:8080/"
        },
        "id": "M9TKZNH8YXTK",
        "outputId": "12c57b53-8199-48ea-b0bf-f52aba6bbde8"
      },
      "execution_count": 7,
      "outputs": [
        {
          "output_type": "stream",
          "name": "stdout",
          "text": [
            "a es mayor que b\n"
          ]
        }
      ]
    },
    {
      "cell_type": "markdown",
      "source": [
        "**else** también puede utilizarse (sin rcurrir a elif) cuando solo hay dos condiciones.\n",
        "\n"
      ],
      "metadata": {
        "id": "z3LjEJG9j2GG"
      }
    },
    {
      "cell_type": "code",
      "source": [
        "a = 200\n",
        "b = 33\n",
        "if b > a:\n",
        "  print(\"b is greater than a\")\n",
        "else:\n",
        "  print(\"b is not greater than a\")"
      ],
      "metadata": {
        "colab": {
          "base_uri": "https://localhost:8080/"
        },
        "id": "hEdnD93pj6AL",
        "outputId": "1afb7f2e-95b4-43f0-a6fa-adae17b3978a"
      },
      "execution_count": 8,
      "outputs": [
        {
          "output_type": "stream",
          "name": "stdout",
          "text": [
            "b is not greater than a\n"
          ]
        }
      ]
    },
    {
      "cell_type": "markdown",
      "source": [
        "Como antes, a veces conviene usar if else en una sola línea de código"
      ],
      "metadata": {
        "id": "6av-dplftEmx"
      }
    },
    {
      "cell_type": "code",
      "source": [
        "a = 2\n",
        "b = 330\n",
        "print(\"a es mayor que b\") if a > b else print(\"b es mayor que a\")"
      ],
      "metadata": {
        "colab": {
          "base_uri": "https://localhost:8080/"
        },
        "id": "Xvg2bJYztDVi",
        "outputId": "c8f2984e-d603-4889-de78-36d46121ef65"
      },
      "execution_count": 9,
      "outputs": [
        {
          "output_type": "stream",
          "name": "stdout",
          "text": [
            "b es mayor que a\n"
          ]
        }
      ]
    },
    {
      "cell_type": "markdown",
      "source": [
        "Else se puede utilizar con más de una condición "
      ],
      "metadata": {
        "id": "Kw7Gv4dMtekc"
      }
    },
    {
      "cell_type": "code",
      "source": [
        "a = 3300\n",
        "b = 330\n",
        "print(\"a es mayor que b\") if a > b else print(\"a es igual a b\") if a == b else print(\"a es menor que b\")"
      ],
      "metadata": {
        "colab": {
          "base_uri": "https://localhost:8080/"
        },
        "id": "td2rHJeatb8Y",
        "outputId": "b2bc1059-f242-4444-fbf5-a027ecff591d"
      },
      "execution_count": 10,
      "outputs": [
        {
          "output_type": "stream",
          "name": "stdout",
          "text": [
            "a es mayor que b\n"
          ]
        }
      ]
    },
    {
      "cell_type": "markdown",
      "source": [
        "If con dos o más condiciones (and, or, etc)"
      ],
      "metadata": {
        "id": "qHOMMdJ4sM_0"
      }
    },
    {
      "cell_type": "code",
      "source": [
        "a = 200\n",
        "b = 33\n",
        "c = 500\n",
        "if a > b and c > a:\n",
        "  print(\"Both conditions are True\")"
      ],
      "metadata": {
        "colab": {
          "base_uri": "https://localhost:8080/"
        },
        "id": "I3C5mEKUYp7w",
        "outputId": "9d911992-146c-4ff7-d940-481e149b4f24"
      },
      "execution_count": 11,
      "outputs": [
        {
          "output_type": "stream",
          "name": "stdout",
          "text": [
            "Both conditions are True\n"
          ]
        }
      ]
    },
    {
      "cell_type": "code",
      "source": [
        "a = 200\n",
        "b = 33\n",
        "c = 500\n",
        "if a > b or a > c:\n",
        "  print(\"At least one of the conditions is True\")"
      ],
      "metadata": {
        "colab": {
          "base_uri": "https://localhost:8080/"
        },
        "id": "MsM9hoFsY4N5",
        "outputId": "6f09c4d4-9c84-4cb9-f014-1c6e4415893f"
      },
      "execution_count": 12,
      "outputs": [
        {
          "output_type": "stream",
          "name": "stdout",
          "text": [
            "At least one of the conditions is True\n"
          ]
        }
      ]
    },
    {
      "cell_type": "markdown",
      "source": [
        "If anidado"
      ],
      "metadata": {
        "id": "XgiVhX0rt-an"
      }
    },
    {
      "cell_type": "code",
      "source": [
        "x = 40\n",
        "if x <= 10:\n",
        "  print(\"menor a 10\")\n",
        "  if x > 10:\n",
        "    print(\"Above ten,\")\n",
        "    if x > 20:\n",
        "      print(\"and also above 20!\")\n",
        "else:\n",
        "  print(\"but not above 20.\")"
      ],
      "metadata": {
        "id": "qmbDwHR9Y9UC",
        "colab": {
          "base_uri": "https://localhost:8080/"
        },
        "outputId": "e1c7d977-c7ea-4542-d29a-ea08ec3c65ff"
      },
      "execution_count": 13,
      "outputs": [
        {
          "output_type": "stream",
          "name": "stdout",
          "text": [
            "but not above 20.\n"
          ]
        }
      ]
    },
    {
      "cell_type": "markdown",
      "source": [
        "---------------------------------------------------------------------"
      ],
      "metadata": {
        "id": "RpFBv9bUN3Ks"
      }
    },
    {
      "cell_type": "markdown",
      "source": [
        "## Ciclos\n",
        "\n",
        "Los ciclos son bloques de programa que se ejecutan reiteradamente mientras se cumpla alguna condición.\n",
        "\n",
        "En Python hay dos declaraciones para crear ciclos,\n",
        "\n",
        "* while\n",
        "* for"
      ],
      "metadata": {
        "id": "BZqn0zGyOBul"
      }
    },
    {
      "cell_type": "markdown",
      "source": [
        "### while"
      ],
      "metadata": {
        "id": "aCP_nU0hsW6_"
      }
    },
    {
      "cell_type": "code",
      "source": [
        "i = 1\n",
        "while i < 6:\n",
        "  print(i)\n",
        "  i += 1"
      ],
      "metadata": {
        "colab": {
          "base_uri": "https://localhost:8080/"
        },
        "id": "xzkRSofoZbbr",
        "outputId": "01d50f5a-bff8-4bae-8a42-4af0ebcd370b"
      },
      "execution_count": 14,
      "outputs": [
        {
          "output_type": "stream",
          "name": "stdout",
          "text": [
            "1\n",
            "2\n",
            "3\n",
            "4\n",
            "5\n"
          ]
        }
      ]
    },
    {
      "cell_type": "code",
      "source": [
        "i=5\n",
        "while i>=0:\n",
        "    print(i)\n",
        "    i-=1\n"
      ],
      "metadata": {
        "colab": {
          "base_uri": "https://localhost:8080/"
        },
        "id": "a7SpzEoiayag",
        "outputId": "0e5038f6-1e1b-43c6-d9c8-27edfef9353b"
      },
      "execution_count": 17,
      "outputs": [
        {
          "output_type": "stream",
          "name": "stdout",
          "text": [
            "5\n",
            "4\n",
            "3\n",
            "2\n",
            "1\n",
            "0\n"
          ]
        }
      ]
    },
    {
      "cell_type": "markdown",
      "source": [
        "break\n",
        "\n",
        "La palabra clkave break rompe la ejecución de un ciclo"
      ],
      "metadata": {
        "id": "0NkVjqLnu3V9"
      }
    },
    {
      "cell_type": "code",
      "source": [
        "i = 1\n",
        "while i < 6:\n",
        "  print(i)\n",
        "  if i == 3:\n",
        "    break\n",
        "  i += 1"
      ],
      "metadata": {
        "colab": {
          "base_uri": "https://localhost:8080/"
        },
        "id": "5z7_esyzZdhA",
        "outputId": "337b4b60-1acb-427b-c895-ea7495c0bd30"
      },
      "execution_count": 18,
      "outputs": [
        {
          "output_type": "stream",
          "name": "stdout",
          "text": [
            "1\n",
            "2\n",
            "3\n"
          ]
        }
      ]
    },
    {
      "cell_type": "markdown",
      "source": [
        "continue\n",
        "\n",
        "En contrate con break, continue interrumpe un paso de ejecución de un ciclo y salta al siguiente"
      ],
      "metadata": {
        "id": "oh79LnR2uyrG"
      }
    },
    {
      "cell_type": "code",
      "source": [
        "i = 0\n",
        "while i < 6:\n",
        "  i += 1\n",
        "  if i == 3:\n",
        "    continue\n",
        "  print(i)Streaming output truncated to the last 5000 lines."
      ],
      "metadata": {
        "colab": {
          "base_uri": "https://localhost:8080/"
        },
        "id": "HGzAtH_UZkl6",
        "outputId": "a0b313cb-08aa-4ee9-b359-78c7240ce7f4"
      },
      "execution_count": null,
      "outputs": [
        {
          "output_type": "stream",
          "name": "stdout",
          "text": [
            "1\n",
            "2\n",
            "4\n",
            "5\n",
            "6\n"
          ]
        }
      ]
    },
    {
      "cell_type": "markdown",
      "source": [
        "### for"
      ],
      "metadata": {
        "id": "irub8ofvu7ct"
      }
    },
    {
      "cell_type": "code",
      "source": [
        "N=2\n",
        "M=5\n",
        "for k in range(M,N,-1):\n",
        "  print(k)"
      ],
      "metadata": {
        "colab": {
          "base_uri": "https://localhost:8080/"
        },
        "id": "tqo0vrcNW0sk",
        "outputId": "770d46bc-bf87-458e-fa54-cef54de2426e"
      },
      "execution_count": null,
      "outputs": [
        {
          "output_type": "stream",
          "name": "stdout",
          "text": [
            "5\n",
            "4\n",
            "3\n"
          ]
        }
      ]
    },
    {
      "cell_type": "markdown",
      "source": [
        "Oython permite la iteración sobre los elementos de una lista, a esta habilidad se le conoce como **comprehension**"
      ],
      "metadata": {
        "id": "6ncql1IFbk5N"
      }
    },
    {
      "cell_type": "code",
      "source": [
        "nombres = [\"Napoleón\", \"Josefina\", \"Simón\", 'Manuela']\n",
        "for x in nombres:Streaming output truncated to the last 5000 lines.\n",
        "  print(x)"
      ],
      "metadata": {
        "colab": {
          "base_uri": "https://localhost:8080/"
        },
        "id": "5SGOSFd44z5n",
        "outputId": "f2d59219-31f7-4663-c406-ffb310396476"
      },
      "execution_count": null,
      "outputs": [
        {
          "output_type": "stream",
          "name": "stdout",
          "text": [
            "Napoleón\n",
            "Josefina\n",
            "Simón\n",
            "Manuela\n"
          ]
        }
      ]
    },
    {
      "cell_type": "code",
      "source": [
        "for m in \"GlobalHitss\":\n",
        "  print(m)"
      ],
      "metadata": {
        "colab": {
          "base_uri": "https://localhost:8080/"
        },
        "id": "HqAAi2765OuT",
        "outputId": "7d43d936-b83c-4845-d015-037edaa7adab"
      },
      "execution_count": null,
      "outputs": [
        {
          "output_type": "stream",
          "name": "stdout",
          "text": [
            "G\n",
            "l\n",
            "o\n",
            "b\n",
            "a\n",
            "l\n",
            "H\n",
            "i\n",
            "t\n",
            "s\n",
            "s\n"
          ]
        }
      ]
    },
    {
      "cell_type": "code",
      "source": [
        "Instrumento = [\"violín\", \"viola\", \"guitarra\",'mandolina']\n",
        "for x in Instrumento:\n",
        "  print(x)\n",
        "  if x == \"viola\":\n",
        "    break"
      ],
      "metadata": {
        "colab": {
          "base_uri": "https://localhost:8080/"
        },
        "id": "E4eY2mPR5U_v",
        "outputId": "1fff4a33-dd22-444b-cf78-86136b606c4a"
      },
      "execution_count": null,
      "outputs": [
        {
          "output_type": "stream",
          "name": "stdout",
          "text": [
            "violín\n",
            "viola\n"
          ]
        }
      ]
    },
    {
      "cell_type": "code",
      "source": [
        "Instrumento = [\"violín\", \"viola\", \"guitarra\",'mandolina']\n",
        "for x in Instrumento:\n",
        "  if x == \"guitarra\":\n",
        "    break\n",
        "  print(x)Streaming output truncated to the last 5000 lines."
      ],
      "metadata": {
        "colab": {
          "base_uri": "https://localhost:8080/"
        },
        "id": "KmKSvRt85u2l",
        "outputId": "74c992c4-6fcc-41bb-d1a7-99339da373f6"
      },
      "execution_count": null,
      "outputs": [
        {
          "output_type": "stream",
          "name": "stdout",
          "text": [
            "violín\n",
            "viola\n"
          ]
        }
      ]
    },
    {
      "cell_type": "code",
      "source": [
        "Instrumento = [\"violín\", \"viola\", \"guitarra\",'mandolina']\n",
        "for x in Instrumento:\n",
        "  if x == \"guitarra\":\n",
        "    continueStreaming output truncated to the last 5000 lines.\n",
        "  print(x)"
      ],
      "metadata": {
        "colab": {
          "base_uri": "https://localhost:8080/"
        },
        "id": "FhpXSm_D6bqM",
        "outputId": "bdc414a9-def3-4f16-d72f-5701f758590e"
      },
      "execution_count": null,
      "outputs": [
        {
          "output_type": "stream",
          "name": "stdout",
          "text": [
            "violín\n",
            "viola\n",
            "mandolina\n"
          ]
        }
      ]
    },
    {
      "cell_type": "markdown",
      "source": [
        "https://www.w3schools.com/python/python_for_loops.asp"
      ],
      "metadata": {
        "id": "q7nRINlr7LuI"
      }
    },
    {
      "cell_type": "markdown",
      "metadata": {
        "id": "hr4EHEloJQyB"
      },
      "source": [
        "# range\n",
        "\n",
        "Esta palabra cklave permite definir un rango numérico de ejecución del bloque de instrucciones dentro de un for-\n",
        "\n",
        "Hay varios modificadors para esta palabra clave\n",
        "\n",
        "\n"
      ]
    },
    {
      "cell_type": "code",
      "source": [
        "for x in range(6):\n",
        "  print(x)\n"
      ],
      "metadata": {
        "colab": {
          "base_uri": "https://localhost:8080/"
        },
        "id": "81RTjmTy6kq7",
        "outputId": "8db7b9af-ff1e-4207-a7ca-18eec2108fe8"
      },
      "execution_count": null,
      "outputs": [
        {
          "output_type": "stream",
          "name": "stdout",
          "text": [
            "0\n",
            "1\n",
            "2\n",
            "3\n",
            "4\n",
            "5\n"
          ]
        }
      ]
    },
    {
      "cell_type": "code",
      "source": [
        "for m in range(0,3):\n",
        "  print(m)"
      ],
      "metadata": {
        "colab": {
          "base_uri": "https://localhost:8080/"
        },
        "id": "9DTeFFta5YKv",
        "outputId": "69f9fe17-028a-4f17-fac4-48bad6de0601"
      },
      "execution_count": null,
      "outputs": [
        {
          "output_type": "stream",
          "name": "stdout",
          "text": [
            "0\n",
            "1\n",
            "2\n"
          ]
        }
      ]
    },
    {
      "cell_type": "code",
      "source": [
        "N=2\n",
        "M=5\n",
        "for k in range(N,M):\n",
        "  print(k)"
      ],
      "metadata": {
        "colab": {
          "base_uri": "https://localhost:8080/"
        },
        "id": "qWHbaZEKWsGt",
        "outputId": "33199af8-b305-4962-868b-61a8fb6d526b"
      },
      "execution_count": null,
      "outputs": [
        {
          "output_type": "stream",
          "name": "stdout",
          "text": [
            "2\n",
            "3\n",
            "4\n"
          ]
        }
      ]
    },
    {
      "cell_type": "code",
      "source": [
        "for m in range(3,7):\n",
        "  for k in range(1,3):\n",
        "    print(m,k,k+m)"
      ],
      "metadata": {
        "colab": {
          "base_uri": "https://localhost:8080/"
        },
        "id": "OKEtF9QfXIzO",
        "outputId": "898190bd-b1f9-4223-9fd2-dcb94938ea81"
      },
      "execution_count": null,
      "outputs": [
        {
          "output_type": "stream",
          "name": "stdout",
          "text": [
            "3 1 4\n",
            "3 2 5\n",
            "4 1 5\n",
            "4 2 6\n",
            "5 1 6\n",
            "5 2 7\n",
            "6 1 7\n",
            "6 2 8\n"
          ]
        }
      ]
    },
    {
      "cell_type": "markdown",
      "source": [
        "Else in For Loop\n",
        "Example\n",
        "Print all numbers from 0 to 5, and print a message when the loop has ended:"
      ],
      "metadata": {
        "id": "bgomqOb06zB4"
      }
    },
    {
      "cell_type": "code",
      "source": [
        "for x in range(6):\n",
        "  print(x)\n",
        "else:\n",
        "  print(\"Proceso finalizado!\")"
      ],
      "metadata": {
        "colab": {
          "base_uri": "https://localhost:8080/"
        },
        "id": "GDujNfdh6xj_",
        "outputId": "80495ff6-1f71-4c08-814a-1e4f468350f6"
      },
      "execution_count": null,
      "outputs": [
        {
          "output_type": "stream",
          "name": "stdout",
          "text": [
            "0\n",
            "1\n",
            "2\n",
            "3\n",
            "4\n",
            "5\n",
            "Proceso finalizado!\n"
          ]
        }
      ]
    },
    {
      "cell_type": "markdown",
      "source": [
        "Los ciclos pueden anidarse\n",
        "  * Hay que tener muchísimo cuidado con la indentación"
      ],
      "metadata": {
        "id": "gOW16BsQd1aK"
      }
    },
    {
      "cell_type": "code",
      "source": [
        "M=0\n",
        "while M<3:\n",
        "  N=0\n",
        "  while N<5:\n",
        "    print(M,N)\n",
        "    N+=1\n",
        "  M+=1\n"
      ],
      "metadata": {
        "colab": {
          "base_uri": "https://localhost:8080/"
        },
        "id": "r7sKkEnZd6IM",
        "outputId": "e49160f5-f226-4d33-d465-444d5748f5b8"
      },
      "execution_count": 41,
      "outputs": [
        {
          "output_type": "stream",
          "name": "stdout",
          "text": [
            "0 0\n",
            "0 1\n",
            "0 2\n",
            "0 3\n",
            "0 4\n",
            "1 0\n",
            "1 1\n",
            "1 2\n",
            "1 3\n",
            "1 4\n",
            "2 0\n",
            "2 1\n",
            "2 2\n",
            "2 3\n",
            "2 4\n"
          ]
        }
      ]
    },
    {
      "cell_type": "code",
      "source": [
        "frutas = [\"manzana\", \"banana\", \"limón\"]\n",
        "adj = [\"roja\", \"dulce\", \"verde\"]\n",
        "\n",
        "\n",
        "\n",
        "for x in frutas:\n",
        "  for y in adj:\n",
        "    print(x, y)"
      ],
      "metadata": {
        "colab": {
          "base_uri": "https://localhost:8080/"
        },
        "id": "NBpsSCnG7LcT",
        "outputId": "425b3c15-acf4-4c00-a509-2a12008c209c"
      },
      "execution_count": null,
      "outputs": [
        {
          "output_type": "stream",
          "name": "stdout",
          "text": [
            "manzana roja\n",
            "manzana dulce\n",
            "manzana verde\n",
            "banana roja\n",
            "banana dulce\n",
            "banana verde\n",
            "limón roja\n",
            "limón dulce\n",
            "limón verde\n"
          ]
        }
      ]
    },
    {
      "cell_type": "code",
      "source": [
        ""
      ],
      "metadata": {
        "id": "mk73uZErg4UG"
      },
      "execution_count": null,
      "outputs": []
    },
    {
      "cell_type": "markdown",
      "source": [
        "pass\n",
        "\n",
        "  pass permite definir un ciclo sin cuerpo"
      ],
      "metadata": {
        "id": "86kKzarFvQrm"
      }
    },
    {
      "cell_type": "code",
      "source": [
        "for x in [0, 1, 2]:\n",
        "  pass"
      ],
      "metadata": {
        "id": "zC_y2CTx7l6y"
      },
      "execution_count": 42,
      "outputs": []
    }
  ]
}