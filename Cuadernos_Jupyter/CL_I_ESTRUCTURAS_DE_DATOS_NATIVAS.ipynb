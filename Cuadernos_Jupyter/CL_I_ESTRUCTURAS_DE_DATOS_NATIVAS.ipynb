{
  "nbformat": 4,
  "nbformat_minor": 0,
  "metadata": {
    "colab": {
      "name": "CL I ESTRUCTURAS_DE_DATOS_NATIVAS.ipynb",
      "provenance": [],
      "collapsed_sections": [],
      "include_colab_link": true
    },
    "kernelspec": {
      "name": "python3",
      "display_name": "Python 3"
    }
  },
  "cells": [
    {
      "cell_type": "markdown",
      "metadata": {
        "id": "view-in-github",
        "colab_type": "text"
      },
      "source": [
        "<a href=\"https://colab.research.google.com/github/mario-i-caicedo-ai/Python_Minicurso/blob/main/Cuadernos_Jupyter/CL_I_ESTRUCTURAS_DE_DATOS_NATIVAS.ipynb\" target=\"_parent\"><img src=\"https://colab.research.google.com/assets/colab-badge.svg\" alt=\"Open In Colab\"/></a>"
      ]
    },
    {
      "cell_type": "markdown",
      "source": [
        "# ¿Qué es Python?\n",
        "\n",
        "* Python es un lenguaje de programación \n",
        "  * multipropósito\n",
        "  * **interpretado** \n",
        "  * de **alto nivel** \n",
        "  * con un diseño que hace hincapié en la legibilidad de su código [gracias, entre otras cosas al uso de la **indentación**].\n",
        "\n",
        "* Python aparece consistentemente como uno de los lenguajes de programación más populares. \n",
        "\n",
        "* Es un lenguaje de programación multiparadigma, ya que soporta parcialmente \n",
        "  * Programación imperativa\n",
        "  * prientación a objetos,  y, \n",
        "  * en menor medida, programación funcional. \n",
        "\n",
        "* Los elementos del lenguaje apuntan a que los desarrolladores puedan escribir códigos claros tanto para proyectos pequeños como de gran escala.\n",
        "\n",
        "\n",
        "* Creador del lenguaje: Guido van Rossum\n",
        "* Fechas de liberación:\n",
        "  * Python 0.9.0. 1991 \n",
        "  * Python 2.0 2000 \n",
        "  * Python 3.0 2008. Python 3... contiene revisiones muy importantes y en general no es compatible con 2....\n",
        "  * La última versión de Python 2 (2.7.18) se descontinuó 2020.\n",
        "\n"
      ],
      "metadata": {
        "id": "jcbh3T32luJn"
      }
    },
    {
      "cell_type": "markdown",
      "source": [
        "## Tipos (en verdad: clases de datos) \n",
        "\n",
        "https://www.geeksforgeeks.org/python-data-types/\n",
        "\n",
        "Data types are the classification or categorization of data items. It represents the kind of value that tells what operations can be performed on a particular data. Since everything is an object in Python programming, data types are actually classes and variables are instance (object) of these classes.\n",
        "\n",
        "* Numeric\n",
        "  * **Enteros** int class\n",
        "  * **Floats** float class\n",
        "  * **Complex** complex class\n",
        "\n",
        "* Sequence Type\n",
        "  * **strings** str class\n",
        "  * listas list class\n",
        "  * tuplas tuple class\n",
        "\n",
        "* Booleano\n",
        "\n",
        "* SETS (conjuntos)\n",
        "\n",
        "* Diccionarios"
      ],
      "metadata": {
        "id": "IxAJrZ4f49Td"
      }
    },
    {
      "cell_type": "code",
      "source": [
        "I_1=12\n",
        "I_2=4\n",
        "\n",
        "F_1=2.4\n",
        "F_2=3.14159\n",
        "\n",
        "z_1=1.+1.j\n",
        "z_2=1.-1.j\n",
        "\n",
        "print(z_1*z_2)"
      ],
      "metadata": {
        "colab": {
          "base_uri": "https://localhost:8080/"
        },
        "id": "9DTeFFta5YKv",
        "outputId": "44318320-44f2-4311-d584-4d538a04785a"
      },
      "execution_count": null,
      "outputs": [
        {
          "output_type": "stream",
          "name": "stdout",
          "text": [
            "(2+0j)\n"
          ]
        }
      ]
    },
    {
      "cell_type": "markdown",
      "metadata": {
        "id": "hr4EHEloJQyB"
      },
      "source": [
        "# Estructuras de datos nativas del lenguaje\n",
        "\n",
        "* Las estructuras de datos no son otra cosa que: medios que permiten almacenar datos. Es decir, son elementos del lenguaje que se utilizan para almacenar conjuntos (o colecciones) de datos\n",
        "\n",
        "Python posee cuatro estructuras de datos nativas:\n",
        "\n",
        "* TUPLAS\n",
        "\n",
        "* LISTAS\n",
        "\n",
        "* DICCIONARIOS y\n",
        "\n",
        "* CONJUNTOS (sets).\n",
        "\n",
        "Lists, and tuples are ordered sequences of objects. \n",
        "\n",
        "list and tuples can contain any type of objects. \n",
        "\n",
        "Tuples are immutable\n"
      ]
    },
    {
      "cell_type": "markdown",
      "metadata": {
        "id": "tu7cGzpdTxQx"
      },
      "source": [
        "### Listas y tuplas.\n",
        "\n",
        "* Listas y tuplas son indexadas (los índioces comienzan en 0)\n",
        "\n",
        "* Las listas son **mutables**  (sus elementos pueden cambiar durante la ek¿jecución de un código), las tuplas son **inmutables**\n",
        "\n",
        "* Las Lists utilizan []  y las tuplas ()"
      ]
    },
    {
      "cell_type": "markdown",
      "metadata": {
        "id": "bVJl2mtwuNe_"
      },
      "source": [
        "## **Tuplas** I\n",
        "\n",
        "z_1 y z_2 son tuplas. Note que el paréntesis es opcional, pero su uso explóicito es recomendado en la práctica"
      ]
    },
    {
      "cell_type": "code",
      "metadata": {
        "id": "PR_SZtiNuRGt"
      },
      "source": [
        "t_1=('h',1,'Colombia','las tuplas podemos contener cualquier tipo de dato') \n",
        "\n",
        "t_2=5,6,'Yo también soy una Tupla','poseo cuatro elementos (entradas)'"
      ],
      "execution_count": null,
      "outputs": []
    },
    {
      "cell_type": "code",
      "metadata": {
        "id": "AUTWv7DcXCue",
        "colab": {
          "base_uri": "https://localhost:8080/"
        },
        "outputId": "2c637d96-5906-415f-ce5c-d0fae3ad4ec9"
      },
      "source": [
        "print(t_1,'\\n')\n",
        "\n",
        "print(t_1[3],'\\n')\n",
        "\n",
        "print('El dato de índice 2:',t_1[2],', es de tipo',type(t_2[2]))\n",
        "\n"
      ],
      "execution_count": null,
      "outputs": [
        {
          "output_type": "stream",
          "name": "stdout",
          "text": [
            "('h', 1, 'Colombia', 'las tuplas podemos contener cualquier tipo de dato') \n",
            "\n",
            "las tuplas podemos contener cualquier tipo de dato \n",
            "\n",
            "El dato de índice 2: Colombia , es de tipo <class 'str'>\n"
          ]
        }
      ]
    },
    {
      "cell_type": "code",
      "source": [
        "print(t_2,'\\n')\n",
        "\n",
        "print(t_2[2],'\\n')\n"
      ],
      "metadata": {
        "colab": {
          "base_uri": "https://localhost:8080/"
        },
        "id": "4aWwzpAvq_rv",
        "outputId": "c4e0c1cb-7155-4805-c4f6-f92547776297"
      },
      "execution_count": null,
      "outputs": [
        {
          "output_type": "stream",
          "name": "stdout",
          "text": [
            "(5, 6, 'Yo también soy una Tupla', 'poseo cuatro elementos (entradas)') \n",
            "\n",
            "Yo también soy una Tupla \n",
            "\n"
          ]
        }
      ]
    },
    {
      "cell_type": "markdown",
      "source": [
        "## **Listas** I\n",
        "\n",
        "L_1 es una lista. "
      ],
      "metadata": {
        "id": "dpigi6ZnyT9p"
      }
    },
    {
      "cell_type": "code",
      "source": [
        "L_1=[1,2,'soy una lista y puedo contener cualquier tipo de dato',1.41424]\n",
        "\n",
        "print('Me llamo L_1,',L_1[2],'\\n')\n",
        "\n",
        "print('Mi primera entrada, es decir, L_1[0], tiene el valor:',L_1[0],'y es tipo:',type(L_1[0]),'\\n')\n",
        "\n",
        "print(L_1[3],type(L_1[3]))\n"
      ],
      "metadata": {
        "colab": {
          "base_uri": "https://localhost:8080/"
        },
        "id": "bsvfFEtAybiw",
        "outputId": "52696a1e-75cd-4483-a9d0-d2eb4eea3ff5"
      },
      "execution_count": null,
      "outputs": [
        {
          "output_type": "stream",
          "name": "stdout",
          "text": [
            "Me llamo L_1, soy una lista y puedo contener cualquier tipo de dato \n",
            "\n",
            "Mi primera entrada, es decir, L_1[0], tiene el valor: 1 y es tipo: <class 'int'> \n",
            "\n",
            "1.41424 <class 'float'>\n"
          ]
        }
      ]
    },
    {
      "cell_type": "markdown",
      "metadata": {
        "id": "bdHpqbtKQYg6"
      },
      "source": [
        "### Un poco más acerca de las tuplas.\n",
        " \n",
        "* Recordemos que a primera vista se parecen mucho a las listas pero: NO son muitables."
      ]
    },
    {
      "cell_type": "code",
      "metadata": {
        "id": "gsNCkMEsQO_h",
        "colab": {
          "base_uri": "https://localhost:8080/"
        },
        "outputId": "e0f8ef27-d88f-487a-c6ed-78bc7e4dea0a"
      },
      "source": [
        "tup=(1,2,3,4,'je-je') # Una 5-tupla\n",
        "print(tup)"
      ],
      "execution_count": null,
      "outputs": [
        {
          "output_type": "stream",
          "name": "stdout",
          "text": [
            "(1, 2, 3, 4, 'je-je')\n"
          ]
        }
      ]
    },
    {
      "cell_type": "markdown",
      "source": [
        "Como las tuplas no pueden mutar, tratar de asignar un valor a una de sus entradas ya existentes genera un error"
      ],
      "metadata": {
        "id": "LBvZ7zmd0zgD"
      }
    },
    {
      "cell_type": "code",
      "metadata": {
        "id": "-TbiC48MQoUZ",
        "colab": {
          "base_uri": "https://localhost:8080/",
          "height": 135
        },
        "outputId": "92b1eef2-bf43-4c61-ec60-1ae2f7782a4e"
      },
      "source": [
        "tup(1)=5 # Rsta instrucción genera un error"
      ],
      "execution_count": null,
      "outputs": [
        {
          "output_type": "error",
          "ename": "SyntaxError",
          "evalue": "ignored",
          "traceback": [
            "\u001b[0;36m  File \u001b[0;32m\"<ipython-input-37-d6d7decedeff>\"\u001b[0;36m, line \u001b[0;32m1\u001b[0m\n\u001b[0;31m    tup(1)=5 # Rsta instrucción genera un error\u001b[0m\n\u001b[0m                                               ^\u001b[0m\n\u001b[0;31mSyntaxError\u001b[0m\u001b[0;31m:\u001b[0m can't assign to function call\n"
          ]
        }
      ]
    },
    {
      "cell_type": "code",
      "metadata": {
        "colab": {
          "base_uri": "https://localhost:8080/"
        },
        "id": "tl59VV6hjF3i",
        "outputId": "a638d148-6bc5-4134-d215-1157b8941fda"
      },
      "source": [
        "print(tup[2])"
      ],
      "execution_count": null,
      "outputs": [
        {
          "output_type": "stream",
          "name": "stdout",
          "text": [
            "3\n"
          ]
        }
      ]
    },
    {
      "cell_type": "markdown",
      "source": [
        "### Python ofrece la comodidad de la 'list comprehensions'"
      ],
      "metadata": {
        "id": "aX_zEw1N1Mao"
      }
    },
    {
      "cell_type": "markdown",
      "source": [
        "FOR usual"
      ],
      "metadata": {
        "id": "k6ExParo1qEj"
      }
    },
    {
      "cell_type": "code",
      "source": [
        "for p in range (0,4):\n",
        "  print(tup[p])"
      ],
      "metadata": {
        "colab": {
          "base_uri": "https://localhost:8080/"
        },
        "id": "3vwFvhd11Xgu",
        "outputId": "aee614e6-cbad-43b2-f0ef-4be609f26ce5"
      },
      "execution_count": null,
      "outputs": [
        {
          "output_type": "stream",
          "name": "stdout",
          "text": [
            "1\n",
            "2\n",
            "3\n",
            "4\n"
          ]
        }
      ]
    },
    {
      "cell_type": "markdown",
      "source": [
        "For con list comprehension"
      ],
      "metadata": {
        "id": "ZkUZWOOO1v_P"
      }
    },
    {
      "cell_type": "code",
      "metadata": {
        "id": "2sMeprT3RgJi",
        "colab": {
          "base_uri": "https://localhost:8080/"
        },
        "outputId": "70c38351-2e4f-4db4-b2b2-12dad812ba75"
      },
      "source": [
        "for x in tup: \n",
        "  print(x)"
      ],
      "execution_count": null,
      "outputs": [
        {
          "output_type": "stream",
          "name": "stdout",
          "text": [
            "1\n",
            "2\n",
            "3\n",
            "4\n",
            "je-je\n"
          ]
        }
      ]
    },
    {
      "cell_type": "markdown",
      "source": [
        " tuplas de tuplas"
      ],
      "metadata": {
        "id": "4NNrga4G1-AJ"
      }
    },
    {
      "cell_type": "code",
      "metadata": {
        "id": "qVn_ihvQSORx",
        "colab": {
          "base_uri": "https://localhost:8080/"
        },
        "outputId": "3079aaf3-7fd2-4fea-df4b-e63c41d28d55"
      },
      "source": [
        "tup_tup=(tup,1) # tuples can also store tuples\n",
        "\n",
        "print('tup_tup[0]=',tup_tup[0])\n",
        "print()\n",
        "\n",
        "print('tup_tup[0][4]=',tup_tup[0][4])\n",
        "print()\n",
        "\n",
        "print('tup_tup[1]=',tup_tup[1])"
      ],
      "execution_count": null,
      "outputs": [
        {
          "output_type": "stream",
          "name": "stdout",
          "text": [
            "tup_tup[0]= (1, 2, 3, 4, 'je-je')\n",
            "\n",
            "tup_tup[0][4]= je-je\n",
            "\n",
            "tup_tup[1]= 1\n"
          ]
        }
      ]
    },
    {
      "cell_type": "markdown",
      "metadata": {
        "id": "DEFQy90-uCCX"
      },
      "source": [
        "## **Listas** II"
      ]
    },
    {
      "cell_type": "code",
      "metadata": {
        "id": "HSSWDLn9JPdg"
      },
      "source": [
        "A=['A','B',1,'What'] # Recordar que las listas requieren corchetes como elementos contenedores"
      ],
      "execution_count": null,
      "outputs": []
    },
    {
      "cell_type": "code",
      "metadata": {
        "id": "3EZUU0WYJfH0",
        "colab": {
          "base_uri": "https://localhost:8080/"
        },
        "outputId": "c5dd2092-1819-45ad-e412-ce531992f5d2"
      },
      "source": [
        "print(A)\n",
        "print('A[1]= ',A[1],' , ','A[2]= ',A[2]) # Imprimiendo (como antes) elementos de A"
      ],
      "execution_count": null,
      "outputs": [
        {
          "output_type": "stream",
          "text": [
            "['A', 'B', 1, 'What']\n",
            "A[1]=  B  ,  A[2]=  1\n"
          ],
          "name": "stdout"
        }
      ]
    },
    {
      "cell_type": "markdown",
      "source": [
        "## Como Python es orientado a objetos, posee 'métodos' que aplican sobre sus clases.\n",
        "\n",
        "El método append es un ejemplo\n"
      ],
      "metadata": {
        "id": "-Loqt7aX2T_K"
      }
    },
    {
      "cell_type": "code",
      "metadata": {
        "id": "96b0h9GzYEAm",
        "colab": {
          "base_uri": "https://localhost:8080/"
        },
        "outputId": "78cd4991-54a7-45ec-9308-396cbb5789cf"
      },
      "source": [
        "A.append(\"Python\") # The append method extends A by adding one element at it's end\n",
        "print(A)"
      ],
      "execution_count": null,
      "outputs": [
        {
          "output_type": "stream",
          "text": [
            "['A', 'B', 1, 'What', 'Python']\n"
          ],
          "name": "stdout"
        }
      ]
    },
    {
      "cell_type": "code",
      "metadata": {
        "id": "bPBLYl2qPTQW",
        "colab": {
          "base_uri": "https://localhost:8080/"
        },
        "outputId": "41bbb1ae-734b-4244-df36-64481272adbb"
      },
      "source": [
        "# lists are MUTABLE\n",
        "A[2]=10  #changing the third element of the list\n",
        "print(A)"
      ],
      "execution_count": null,
      "outputs": [
        {
          "output_type": "stream",
          "text": [
            "['A', 'B', 10, 'What', 'Python']\n"
          ],
          "name": "stdout"
        }
      ]
    },
    {
      "cell_type": "code",
      "metadata": {
        "id": "efcYtlkEPgKu",
        "colab": {
          "base_uri": "https://localhost:8080/"
        },
        "outputId": "49fc32d5-6160-4750-8c77-e51f69611dac"
      },
      "source": [
        "A[2]='Los elelentos pueden cambiar con una asignación' # El tipo de objeto que se almaxcena en un elemento de una lista puede cambiar\n",
        "print(A)"
      ],
      "execution_count": null,
      "outputs": [
        {
          "output_type": "stream",
          "text": [
            "['A', 'B', 'Element types may change as asked', 'What', 'Python']\n"
          ],
          "name": "stdout"
        }
      ]
    },
    {
      "cell_type": "markdown",
      "source": [
        "Método **insert**"
      ],
      "metadata": {
        "id": "i32igcRB23_1"
      }
    },
    {
      "cell_type": "code",
      "metadata": {
        "id": "Mcy5hvMSY1KZ",
        "colab": {
          "base_uri": "https://localhost:8080/",
          "height": 208
        },
        "outputId": "4a59237c-3fd7-446a-a627-2b0555d6421f"
      },
      "source": [
        "A.insert(2, \"Soy un elemento nuevo \") # the insert method includes a new element at the specified position\n",
        "#langs.insert(2, \"Lua\")\n",
        "print(A)"
      ],
      "execution_count": null,
      "outputs": [
        {
          "output_type": "error",
          "ename": "NameError",
          "evalue": "ignored",
          "traceback": [
            "\u001b[0;31m---------------------------------------------------------------------------\u001b[0m",
            "\u001b[0;31mNameError\u001b[0m                                 Traceback (most recent call last)",
            "\u001b[0;32m<ipython-input-41-6c9991aa1786>\u001b[0m in \u001b[0;36m<module>\u001b[0;34m()\u001b[0m\n\u001b[0;32m----> 1\u001b[0;31m \u001b[0mA\u001b[0m\u001b[0;34m.\u001b[0m\u001b[0minsert\u001b[0m\u001b[0;34m(\u001b[0m\u001b[0;36m2\u001b[0m\u001b[0;34m,\u001b[0m \u001b[0;34m\"Soyun elemento nuevo \"\u001b[0m\u001b[0;34m)\u001b[0m \u001b[0;31m# the insert method includes a new element at the specified position\u001b[0m\u001b[0;34m\u001b[0m\u001b[0;34m\u001b[0m\u001b[0m\n\u001b[0m\u001b[1;32m      2\u001b[0m \u001b[0;31m#langs.insert(2, \"Lua\")\u001b[0m\u001b[0;34m\u001b[0m\u001b[0;34m\u001b[0m\u001b[0;34m\u001b[0m\u001b[0m\n\u001b[1;32m      3\u001b[0m \u001b[0mprint\u001b[0m\u001b[0;34m(\u001b[0m\u001b[0mA\u001b[0m\u001b[0;34m)\u001b[0m\u001b[0;34m\u001b[0m\u001b[0;34m\u001b[0m\u001b[0m\n",
            "\u001b[0;31mNameError\u001b[0m: name 'A' is not defined"
          ]
        }
      ]
    },
    {
      "cell_type": "code",
      "metadata": {
        "id": "SZxKmxyRbjNh",
        "colab": {
          "base_uri": "https://localhost:8080/"
        },
        "outputId": "f821718a-8860-41f9-be43-9ac49df52025"
      },
      "source": [
        "A.extend((\"JavaScript\", \"ActionScript\")) # In thos example, the extend method adds the two elements of a tuple at the end of A (extends A)\n",
        "print(A)"
      ],
      "execution_count": null,
      "outputs": [
        {
          "output_type": "stream",
          "text": [
            "['A', 'B', 'I am a new element', 10, 'What', 'Python', 'JavaScript', 'ActionScript']\n"
          ],
          "name": "stdout"
        }
      ]
    },
    {
      "cell_type": "code",
      "metadata": {
        "id": "s4SsZDzKdgrL",
        "colab": {
          "base_uri": "https://localhost:8080/",
          "height": 50
        },
        "outputId": "6b21e754-949b-40bd-cb6a-9ff723b85c85"
      },
      "source": [
        "Axx = A.pop(3) #The pop() method removes and returns an element with a specified index or the last element if the index number is not given.\n",
        "print(A)\n",
        "print(\"{0} was removed\".format(Axx))# I don't get this statement\n",
        "\n",
        "#Ayy = A.pop()\n",
        "#print(\"{0} was removed\".format(Ayy))\n",
        "\n",
        "#print(langs)\n",
        "\n",
        "#Azz=A.remove(\"Ruby\") #The remove() method removes a particular item from a list.\n",
        "#print(Azz)\n"
      ],
      "execution_count": null,
      "outputs": [
        {
          "output_type": "stream",
          "text": [
            "['A', 'B', 'I am a new element', 'ActionScript']\n",
            "JavaScript was removed\n"
          ],
          "name": "stdout"
        }
      ]
    },
    {
      "cell_type": "markdown",
      "metadata": {
        "id": "0VA8IJRbQ2YK"
      },
      "source": [
        "### We may have lists of lists"
      ]
    },
    {
      "cell_type": "code",
      "metadata": {
        "id": "WIEjhbx6QAcH"
      },
      "source": [
        "AA=[A] # AA is a list having a list inside\n",
        "BB=[AA,A] #BB is a list of lists"
      ],
      "execution_count": null,
      "outputs": []
    },
    {
      "cell_type": "code",
      "metadata": {
        "id": "ZOx0JhCzJyJc",
        "colab": {
          "base_uri": "https://localhost:8080/"
        },
        "outputId": "0f44b86e-8701-4ce3-d768-0d138b2ea7e5"
      },
      "source": [
        "print('AA[0]= ',AA[0]) #printing the o element of AA, since AA[0] is a list itself (A) the statement prints A throughly."
      ],
      "execution_count": null,
      "outputs": [
        {
          "output_type": "stream",
          "text": [
            "AA[0]=  ['A', 'B', 'I am a new element', 10, 'What', 'Python', 'JavaScript', 'ActionScript']\n"
          ],
          "name": "stdout"
        }
      ]
    },
    {
      "cell_type": "code",
      "metadata": {
        "id": "p5HzCbajLgel",
        "colab": {
          "base_uri": "https://localhost:8080/"
        },
        "outputId": "7c2e3aeb-27c3-47e1-e509-4f574d4fd513"
      },
      "source": [
        "print('AA[0][0]= ',AA[0][0]) # this instructtion is fun, the apparently weird object AA[0][0] is the 0 element of the list AA[0]!"
      ],
      "execution_count": null,
      "outputs": [
        {
          "output_type": "stream",
          "text": [
            "AA[0][0]=  A\n"
          ],
          "name": "stdout"
        }
      ]
    },
    {
      "cell_type": "code",
      "metadata": {
        "id": "YU8XVTsCL3zD"
      },
      "source": [
        "print(BB) # this one is GREAT FUN, notice the double [], it comes in because AA is a list with a list as unique element"
      ],
      "execution_count": null,
      "outputs": []
    },
    {
      "cell_type": "code",
      "metadata": {
        "id": "iwxMRSYVMSHr"
      },
      "source": [
        "#We can iterate in two ways ....\n",
        "\n",
        "C=[1,2,3,4,5,6,7,8,9,10]\n",
        "\n",
        "for p in range (0,9):\n",
        "  print(C[p])"
      ],
      "execution_count": null,
      "outputs": []
    },
    {
      "cell_type": "code",
      "metadata": {
        "id": "oY2FrOdbMmHL"
      },
      "source": [
        "for number in C: # this one is gorgeous, we may put a name to the objects inside the list C and iterate over the names.\n",
        "  print(number)"
      ],
      "execution_count": null,
      "outputs": []
    },
    {
      "cell_type": "markdown",
      "metadata": {
        "id": "XwPJECAGrKFL"
      },
      "source": [
        "## **Diccionarios**\n",
        "\n",
        "### Un diccionario es una colección de objetos desordenados, modificables e indexados. En Python, los diccionarios se escriben con corchetes y tienen claves (keys) y valores.\n",
        "\n",
        "UN diccionario es muy parecido (casi idéntico) a un archivo de tipo json (ver más adelante)."
      ]
    },
    {
      "cell_type": "code",
      "metadata": {
        "id": "AWAt90KDrQNx",
        "colab": {
          "base_uri": "https://localhost:8080/"
        },
        "outputId": "227eced0-3263-45fa-ff64-ba94483f14f0"
      },
      "source": [
        "myfamily = {\n",
        "  \"child1\" : {\n",
        "    \"name\" : \"MJ\",\n",
        "    \"year\" : 1990\n",
        "  },\n",
        "  \"child2\" : {\n",
        "    \"name\" : \"MS\",\n",
        "    \"year\" : 2003\n",
        "  },\n",
        "  \"child3\" : {\n",
        "    \"name\" : \"Sophie\",\n",
        "    \"year\" : 2005\n",
        "  }\n",
        "}\n",
        "print(myfamily)"
      ],
      "execution_count": null,
      "outputs": [
        {
          "output_type": "stream",
          "text": [
            "{'child1': {'name': 'MJ', 'year': 1990}, 'child2': {'name': 'MS', 'year': 2003}, 'child3': {'name': 'Sophie', 'year': 2005}}\n"
          ],
          "name": "stdout"
        }
      ]
    },
    {
      "cell_type": "code",
      "metadata": {
        "id": "M20S0iyesSNB",
        "colab": {
          "base_uri": "https://localhost:8080/"
        },
        "outputId": "7b6ac44b-606b-4ba7-c7bd-3d7d2dfd09dc"
      },
      "source": [
        "print(myfamily[\"child1\"]['year']) #parsing is achieved by indexing\n",
        "\n",
        "print(myfamily[\"child2\"])\n",
        "\n",
        "print(myfamily['child3']['name'])\n",
        "\n",
        "#print(thisdict)"
      ],
      "execution_count": null,
      "outputs": [
        {
          "output_type": "stream",
          "text": [
            "1990\n",
            "{'name': 'MS', 'year': 2003}\n",
            "Sophie\n"
          ],
          "name": "stdout"
        }
      ]
    },
    {
      "cell_type": "code",
      "metadata": {
        "id": "65AZXI4PEtuI",
        "colab": {
          "base_uri": "https://localhost:8080/"
        },
        "outputId": "a17642b2-dc46-45d9-8d24-728b666f68a5"
      },
      "source": [
        "# A dictionaries can contain lists\n",
        "QM = {\n",
        "  \"student1\" : {\n",
        "    \"name\" : \"Joe Di Maggio\",\n",
        "    \"year\" : 2015,\n",
        "    \"courses\": [\"classical mechanics 2\",\"statistical mechanics\",\"advanced electronics\"] #this is a list\n",
        "  },\n",
        "  \"student2\" : {\n",
        "    \"name\" : \"Fred Flinstone\",\n",
        "    \"year\" : 2016,\n",
        "    \"courses\": [\"classical mechanics 2\",\"statistical mechanics\",\"advanced electronics\"]\n",
        "          },\n",
        "  \"student3\" : {\n",
        "    \"name\" : \"Jane Jetson\",\n",
        "    \"year\" : 2017,\n",
        "    \"courses\": [\"relativity 2\",\"statistical mechanics\",\"advanced lab\"]\n",
        "         }\n",
        "}\n",
        "print(QM)"
      ],
      "execution_count": null,
      "outputs": [
        {
          "output_type": "stream",
          "text": [
            "{'student1': {'name': 'Joe Di Maggio', 'year': 2015, 'courses': ['classical mechanics 2', 'statistical mechanics', 'advanced electronics']}, 'student2': {'name': 'Fred Flinstone', 'year': 2016, 'courses': ['classical mechanics 2', 'statistical mechanics', 'advanced electronics']}, 'student3': {'name': 'Jane Jetson', 'year': 2017, 'courses': ['relativity 2', 'statistical mechanics', 'advanced lab']}}\n"
          ],
          "name": "stdout"
        }
      ]
    },
    {
      "cell_type": "code",
      "metadata": {
        "id": "Qfw4GxtjFvGf",
        "colab": {
          "base_uri": "https://localhost:8080/",
          "height": 51
        },
        "outputId": "2927e99b-fcd9-449f-ca9b-bf57aa0cb3cc"
      },
      "source": [
        "print(QM[\"student3\"][\"name\"],QM[\"student3\"][\"courses\"])\n",
        "\n",
        "print(QM[\"student3\"][\"name\"],QM[\"student3\"][\"courses\"][2])"
      ],
      "execution_count": null,
      "outputs": [
        {
          "output_type": "stream",
          "text": [
            "Jane Jetson ['relativity 2', 'statistical mechanics', 'advanced lab']\n",
            "Jane Jetson advanced lab\n"
          ],
          "name": "stdout"
        }
      ]
    },
    {
      "cell_type": "markdown",
      "metadata": {
        "id": "w9XmjA8CG4Oj"
      },
      "source": [
        "Dictionaries are similar to json files."
      ]
    },
    {
      "cell_type": "markdown",
      "metadata": {
        "id": "HTKnQ-67HSnq"
      },
      "source": [
        "This is an example of a json file:\n",
        "\n",
        "{\n",
        "    \"firstName\": \"Jane\",\n",
        "    \"lastName\": \"Doe\",\n",
        "    \"hobbies\": [\"running\", \"sky diving\", \"singing\"],\n",
        "    \"age\": 35,\n",
        "    \"children\": [\n",
        "        {\n",
        "            \"firstName\": \"Alice\",\n",
        "            \"age\": 6\n",
        "        },\n",
        "        {\n",
        "            \"firstName\": \"Bob\",\n",
        "            \"age\": 8\n",
        "        }\n",
        "    ]\n",
        "}\n",
        "\n",
        "¡¡It is almost a dictionary!!"
      ]
    },
    {
      "cell_type": "code",
      "metadata": {
        "id": "nEf3sXy-Hh7K"
      },
      "source": [
        "# I just gave a name to the json and ... got a dictionary\n",
        "\n",
        "dd={\n",
        "    \"firstName\": \"Jane\",\n",
        "    \"lastName\": \"Doe\",\n",
        "    \"hobbies\": [\"running\", \"sky diving\", \"singing\"],\n",
        "    \"age\": 35,\n",
        "    \"children\": [\n",
        "        {\n",
        "            \"firstName\": \"Alice\",\n",
        "            \"age\": 6\n",
        "        },\n",
        "        {\n",
        "            \"firstName\": \"Bob\",\n",
        "            \"age\": 8\n",
        "        }\n",
        "    ]\n",
        "}"
      ],
      "execution_count": null,
      "outputs": []
    },
    {
      "cell_type": "code",
      "metadata": {
        "id": "DnLZl82HG9FC",
        "colab": {
          "base_uri": "https://localhost:8080/",
          "height": 33
        },
        "outputId": "4c9e6344-e9e9-44ca-d91a-04a5a5a97246"
      },
      "source": [
        "print(dd[\"hobbies\"])"
      ],
      "execution_count": null,
      "outputs": [
        {
          "output_type": "stream",
          "text": [
            "['running', 'sky diving', 'singing']\n"
          ],
          "name": "stdout"
        }
      ]
    },
    {
      "cell_type": "markdown",
      "metadata": {
        "id": "qnzZLtMKrLw8"
      },
      "source": [
        "## **SETS**\n",
        "\n",
        "Set\n",
        "A set is a collection which is unordered and unindexed. In Python sets are written with curly brackets."
      ]
    },
    {
      "cell_type": "code",
      "metadata": {
        "id": "qfpygD37Lhms",
        "colab": {
          "base_uri": "https://localhost:8080/",
          "height": 33
        },
        "outputId": "f0212b43-9147-4058-b512-6822d5b6ae74"
      },
      "source": [
        "conjunto_1={\"ball\",\"glove\",\"bat\"}\n",
        "conjunto_2={\"glove\",\"ball\",\"car\",\"transformer\"}\n",
        "conjunto_3={\"transformer\",\"jeep\",\"ball\"}\n",
        "conjunto_4={\"avion\"}\n",
        "\n",
        "print(conjunto_1)"
      ],
      "execution_count": null,
      "outputs": [
        {
          "output_type": "stream",
          "text": [
            "{'ball', 'glove', 'bat'}\n"
          ],
          "name": "stdout"
        }
      ]
    },
    {
      "cell_type": "markdown",
      "metadata": {
        "id": "czPiFHYoL_lJ"
      },
      "source": [
        "You cannot access items in a set by referring to an index, since sets are unordered the items has no index.\n",
        "\n",
        "But you can loop through the set items using a for loop, or ask if a specified value is present in a set, by using the in keyword."
      ]
    },
    {
      "cell_type": "code",
      "metadata": {
        "id": "Nk9QbErsMAqp",
        "colab": {
          "base_uri": "https://localhost:8080/",
          "height": 66
        },
        "outputId": "13589f91-2239-4f17-f15d-adb9d4bedbb3"
      },
      "source": [
        "for x in conjunto_1:\n",
        "  print(x)"
      ],
      "execution_count": null,
      "outputs": [
        {
          "output_type": "stream",
          "text": [
            "ball\n",
            "glove\n",
            "bat\n"
          ],
          "name": "stdout"
        }
      ]
    },
    {
      "cell_type": "code",
      "metadata": {
        "id": "knYv8AStMQy_",
        "colab": {
          "base_uri": "https://localhost:8080/",
          "height": 50
        },
        "outputId": "cab3c838-c02f-4724-9c52-573238b24e59"
      },
      "source": [
        "for x in conjunto_1:\n",
        "  if x in conjunto_2:\n",
        "    print(x,\"ding\")"
      ],
      "execution_count": null,
      "outputs": [
        {
          "output_type": "stream",
          "text": [
            "ball ding\n",
            "glove ding\n"
          ],
          "name": "stdout"
        }
      ]
    },
    {
      "cell_type": "code",
      "metadata": {
        "id": "jmTLtsC1NI_F",
        "colab": {
          "base_uri": "https://localhost:8080/",
          "height": 33
        },
        "outputId": "b94c04e8-4d9c-45de-e910-4380158b3853"
      },
      "source": [
        "for x in conjunto_1:\n",
        "  if x in conjunto_2 and x in conjunto_3:\n",
        "    print(x,\"ding\")"
      ],
      "execution_count": null,
      "outputs": [
        {
          "output_type": "stream",
          "text": [
            "ball ding\n"
          ],
          "name": "stdout"
        }
      ]
    },
    {
      "cell_type": "code",
      "metadata": {
        "id": "oJuSFXGJNlbx",
        "colab": {
          "base_uri": "https://localhost:8080/",
          "height": 66
        },
        "outputId": "d67d1e1d-0461-4c0e-f20d-69aadaf8e2a2"
      },
      "source": [
        "set_1=conjunto_1.union(conjunto_3)\n",
        "\n",
        "set_2=conjunto_1.intersection(conjunto_3)\n",
        "\n",
        "set_3=conjunto_1.intersection(conjunto_4)\n",
        "\n",
        "print(set_1)\n",
        "\n",
        "print(set_2)\n",
        "\n",
        "print(set_3)\n",
        "\n"
      ],
      "execution_count": null,
      "outputs": [
        {
          "output_type": "stream",
          "text": [
            "{'glove', 'transformer', 'bat', 'jeep', 'ball'}\n",
            "{'ball'}\n",
            "set()\n"
          ],
          "name": "stdout"
        }
      ]
    }
  ]
}