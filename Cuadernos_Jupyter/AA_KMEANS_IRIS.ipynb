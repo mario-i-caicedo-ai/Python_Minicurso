{
  "nbformat": 4,
  "nbformat_minor": 0,
  "metadata": {
    "colab": {
      "name": "AA_KMEANS_IRIS.ipynb",
      "provenance": [],
      "collapsed_sections": [],
      "authorship_tag": "ABX9TyPEU/DVGqyj00ZQjPi4BWIQ",
      "include_colab_link": true
    },
    "kernelspec": {
      "name": "python3",
      "display_name": "Python 3"
    },
    "language_info": {
      "name": "python"
    }
  },
  "cells": [
    {
      "cell_type": "markdown",
      "metadata": {
        "id": "view-in-github",
        "colab_type": "text"
      },
      "source": [
        "<a href=\"https://colab.research.google.com/github/mario-i-caicedo-ai/Python_Minicurso/blob/main/Cuadernos_Jupyter/AA_KMEANS_IRIS.ipynb\" target=\"_parent\"><img src=\"https://colab.research.google.com/assets/colab-badge.svg\" alt=\"Open In Colab\"/></a>"
      ]
    },
    {
      "cell_type": "markdown",
      "source": [
        "<center><img src='https://upload.wikimedia.org/wikipedia/commons/thumb/4/49/Iris_germanica_%28Purple_bearded_Iris%29%2C_Wakehurst_Place%2C_UK_-_Diliff.jpg/376px-Iris_germanica_%28Purple_bearded_Iris%29%2C_Wakehurst_Place%2C_UK_-_Diliff.jpg'></center>\n",
        "\t"
      ],
      "metadata": {
        "id": "DuancTZR9GAK"
      }
    },
    {
      "cell_type": "markdown",
      "source": [
        "# <center>Agrupamiento por KMEANS:</center> \n",
        "\n",
        "## <center>el IRIS DATA SET como ejemplo</center>\n",
        "\n",
        "### <center>Mario I. Caicedo</center>"
      ],
      "metadata": {
        "id": "0gIeJRSyO4SG"
      }
    },
    {
      "cell_type": "markdown",
      "source": [
        "\n",
        "\n",
        "\n",
        "El objetivo de este cuaderno consiste en aplicar el algoritmo de agrupación (clustering)  [KMEANS](https://en.wikipedia.org/wiki/K-means_clustering) a un conjunto de datos. Con este fin, utilizaremos la biblioteca [scikit-learn](https://scikit-learn.org/stable/) (también conocida como **sklearn**)\n",
        "\n",
        "En 1936, Ronald Fisher publicó un artículo titulado: \n",
        "\n",
        "*The use of multiple measurements in taxonomic problems as an example of linear discriminant analysis*\n",
        "\n",
        "En el este célebre trabajo, Fisher introduce un conjunto de datos conocidos actualmente como el IRIS DATA SET, que consta de 50 muestras de cada una de las tres especies de la flor Iris (Iris setosa, Iris virginica e Iris versicolor). Para cada muestra se midieron cuatro (4) características, el largo y el ancho de los sépalos y pétalos, en centímetros. Basado en la combinación de estas cuatro características. Fisher tuvo éxito en su empresa y consiguió desarrollar un modelo discriminante lineal para distinguir las especies entre sí.\n",
        "\n",
        "Hoy día, el IRIS DATA set se utiliza en cursos de estadísitica y de aprendizaje automático. De hecho, el conjunto de datos está incluído entre los datasets estándar tanto en la biblioteca para Python *sklearn* como en R.\n",
        "\n",
        "Tambiés es posible descargar el data set de diversas fuentes. \n",
        "\n",
        "* [Repositorio para Aprendizaje Automático de la Universidad de California en Irvine](https://archive.ics.uci.edu/ml/index.php)\n",
        "\n",
        "* [Iris Flower Data Set](https://en.wikipedia.org/wiki/Iris_flower_data_set). Por cierto, obtner la tabla de datos usando la biblioteca [beautifulsoup](https://pypi.org/project/beautifulsoup4/) es un lindo ejercicio de mineria de datos en la web [webscraping](https://en.wikipedia.org/wiki/Web_scraping).\n",
        "\n",
        "* Es muy interesante mencionar el libro [A Handbook of Small Data Sets\n",
        "](https://books.google.com.co/books/about/A_Handbook_of_Small_Data_Sets.html?id=m4O1DwAAQBAJ&printsec=frontcover&source=kp_read_button&hl=en&redir_esc=y#v=onepage&q&f=false) de By David J. Hand, Fergus Daly, K. McConway, D. Lunn, E. Ostrowski. Un compendio de tablas muy útiles para estudiar estadísitica. Las tablas de datos del texto pueden descargarse del siguiente [enlace](https://www2.stat.duke.edu/courses/Spring09/sta114/114data.html)\n",
        "\n",
        "* A diferencia de lo que se hace en la mayor parte de los ejemplos que usted encontrará en la red, no utilizaremos los datos almacenados en la biblioteca scikit-learn. En lugar de esto, los datos se descagarán de la web en domnde típicamente aparecen como [name].DAT, habrá que convertirles a una tabla [csv](https://en.wikipedia.org/wiki/Comma-separated_values) y añadir los nombres de las columnas (que no se encuentran en los archivos originales)  "
      ],
      "metadata": {
        "id": "_qy5hubHB10S"
      }
    },
    {
      "cell_type": "markdown",
      "source": [
        "## Una nota fundamental:\n",
        "\n",
        "El algoritmo KMEANS crea los agrupamientos buscando centros de grupos y midiendo la distancia entre cada unto (muestra) y dichos centros. La noción de distancia que se utiliza es la euclídea en el espacio de atributos.\n",
        "\n",
        "La dstancia euclídea solo tiene sentido si todos los atributos son de las mismas dimensiones, es por ello y no por la escala de valores en los atributos que es necesario reescalarles para hacerles adimensionales.\n",
        "\n",
        "En el problema de clasificación IRIS todos los atributos están medidos en cm y sn de escala comparable y por ende no hay que llevar a caboi escalamiento alguno"
      ],
      "metadata": {
        "id": "T2DGjzhtL6Q2"
      }
    },
    {
      "cell_type": "markdown",
      "source": [
        "## Bibliotecas requeridas para estudiar el problema\n",
        "\n",
        "* pandas. Para manejar los datos.\n",
        "* matplotlib. Graficación.\n",
        "* seaborn. Visualización elegante basada en matplotlib.\n",
        "* sklearn. Biblioteca estándar de aprendizaje automático (Machine Learning)"
      ],
      "metadata": {
        "id": "ts5KLbvAfDz3"
      }
    },
    {
      "cell_type": "code",
      "source": [
        "import pandas as pd\n",
        "\n",
        "import matplotlib.pyplot as plt\n",
        "\n",
        "import seaborn as sns\n",
        "\n",
        "from sklearn.cluster import KMeans"
      ],
      "metadata": {
        "id": "HdhfaICI2wAK"
      },
      "execution_count": 1,
      "outputs": []
    },
    {
      "cell_type": "markdown",
      "source": [
        "## FASE I\n",
        "\n",
        "### Preparación para lectura de datos (se supone que los archivos están almacenados en su google drive)"
      ],
      "metadata": {
        "id": "AZbr9imNkV9W"
      }
    },
    {
      "cell_type": "code",
      "execution_count": null,
      "metadata": {
        "id": "a_8JeowAz5N9"
      },
      "outputs": [],
      "source": [
        "from google.colab import drive\n",
        "drive.mount('/content/gdrive')"
      ]
    },
    {
      "cell_type": "code",
      "source": [
        "!ls"
      ],
      "metadata": {
        "id": "lmDp2v5i0hNK"
      },
      "execution_count": null,
      "outputs": []
    },
    {
      "cell_type": "code",
      "source": [
        "%cd /content/gdrive/My Drive/Colab Notebooks/Handbook-of-Small-Data-Sets-DATA_FILES"
      ],
      "metadata": {
        "id": "OcZHT6La1G6N"
      },
      "execution_count": null,
      "outputs": []
    },
    {
      "cell_type": "code",
      "source": [
        "!ls IR*"
      ],
      "metadata": {
        "id": "UIS3sdfr1NiU"
      },
      "execution_count": null,
      "outputs": []
    },
    {
      "cell_type": "code",
      "source": [
        "!ls ir*"
      ],
      "metadata": {
        "id": "V9gYXyMVed_g"
      },
      "execution_count": null,
      "outputs": []
    },
    {
      "cell_type": "markdown",
      "source": [
        "---------------------------------------------------------------\n",
        "## FASE II\n",
        "\n",
        "Importando los datos de UCI.\n",
        "\n",
        "* Nota, al bajar los datos del repositorio se obtiene un archivo denominado **iris.dat**, al examinarlo con algún editor de texto notará que \n",
        "  * Las columnas carecen de nombre\n",
        "  * Los datos están separados por comas.\n",
        "* Si decide subir el archivo a su google drive, deberá usar el comando (recuerde que en colab está corriendo una máquina con Linux como SO): \n",
        "<center>!mv iris.dat iris.csv</center>\n",
        "este comando cambiará la extensión del archivo para hacerle adecuado para su lectura con pandas, además, de eso, al leer el archivo, tendrá que **explicitar** que el separador es la coma (,)"
      ],
      "metadata": {
        "id": "vW-7FUceejUo"
      }
    },
    {
      "cell_type": "markdown",
      "source": [
        "* Lectura del archivo **csv**\n",
        "* Pandas lo convierte en un DataFrame\n",
        "* Por favor note la palabra clave **sep** para definir el separador. "
      ],
      "metadata": {
        "id": "o5X8WjA34yrO"
      }
    },
    {
      "cell_type": "code",
      "source": [
        "IRIS=pd.read_csv('iris.csv',sep=',',header=None)"
      ],
      "metadata": {
        "id": "ZSihn9a7t69v"
      },
      "execution_count": 7,
      "outputs": []
    },
    {
      "cell_type": "markdown",
      "source": [
        "## FASE III \n",
        "\n",
        "Preparación del DataFrame"
      ],
      "metadata": {
        "id": "VwnP1ePWjH92"
      }
    },
    {
      "cell_type": "markdown",
      "source": [
        "El despliegue de las primeras líneas del DataFrame muestran la ausencia de los nombres de columna."
      ],
      "metadata": {
        "id": "jeq5GV8f5iUe"
      }
    },
    {
      "cell_type": "code",
      "source": [
        "IRIS.head(2)"
      ],
      "metadata": {
        "id": "twiC0XLw3XJ_"
      },
      "execution_count": null,
      "outputs": []
    },
    {
      "cell_type": "markdown",
      "source": [
        "Los nombres de columna se pueden incluir en una lista y se añaden al DataFrame con el método **columns**"
      ],
      "metadata": {
        "id": "7GjtWZkt5r-l"
      }
    },
    {
      "cell_type": "code",
      "source": [
        "Columnas=['SL','SW','PL','PW','Variedad']\n",
        "IRIS.columns=Columnas"
      ],
      "metadata": {
        "id": "PSooSFtKDypk"
      },
      "execution_count": 9,
      "outputs": []
    },
    {
      "cell_type": "markdown",
      "source": [
        "* Despliegue de las últimas filas del DataFrame luego de haber incluido los nombres de columna.\n",
        "* Note que los datos ya están clasificados, sin embargo, la etiqueta es alfanumérica lo que lo complica su uso para el agrupamiento."
      ],
      "metadata": {
        "id": "vOLcJDHh6X5W"
      }
    },
    {
      "cell_type": "code",
      "source": [
        "IRIS.tail()"
      ],
      "metadata": {
        "id": "QdrQZz3MDkto"
      },
      "execution_count": null,
      "outputs": []
    },
    {
      "cell_type": "markdown",
      "source": [
        "* Debido al problema con la etiqueta, es necesario definir una neva etiqueta numérica.\n",
        "\n",
        "* La etiqueta numérica se define a través de una función  (**categorise**) que asigna un valor numérico  (0,1,2) a cada una de las clases, esta cantidad se incluirá en una nueva columna del DataFrame."
      ],
      "metadata": {
        "id": "7IQayX8ujcae"
      }
    },
    {
      "cell_type": "code",
      "source": [
        "def categorise(row):  \n",
        "    if row['Variedad'] =='Iris-setosa':\n",
        "        return(0)\n",
        "    elif row['Variedad'] =='Iris-versicolor':\n",
        "        return(1)\n",
        "    else :\n",
        "        return(2)"
      ],
      "metadata": {
        "id": "iHKmbNrcE_Ai"
      },
      "execution_count": 11,
      "outputs": []
    },
    {
      "cell_type": "markdown",
      "source": [
        "Acá creamos una nueva columna con la etiqueta numérica.\n",
        "\n",
        "Los elementos de la columna se rellenan con una función anónima "
      ],
      "metadata": {
        "id": "3d57JuDljm36"
      }
    },
    {
      "cell_type": "code",
      "source": [
        "IRIS['Clase'] = IRIS.apply(lambda row: categorise(row), axis=1)"
      ],
      "metadata": {
        "id": "eqMIoZ4wGffg"
      },
      "execution_count": 12,
      "outputs": []
    },
    {
      "cell_type": "code",
      "source": [
        "# Si desea observar un elemento del data frame retire el comentario\n",
        "# de la siguiente línea de código. Si quiere examninar un sector del DataFrame tiene \n",
        "# que modificasr la línea y retirar el comentario\n",
        "\n",
        "# IRIS.iloc[40] "
      ],
      "metadata": {
        "id": "U98ikVzQGocg"
      },
      "execution_count": 13,
      "outputs": []
    },
    {
      "cell_type": "markdown",
      "source": [
        "### **Una nota importante**\n",
        "\n",
        "La siguiente línea de código reordena las filas del dataframe,\n",
        "en este caso. frac=1 hace un reordenamiento al azar.\n",
        "\n",
        "Para este estudio, el reonrdenamioento es totalmente innecesario, sin embaro, si tratáramos con otro tipo de modelo, una regresión, por ejemplo. Este paso ser´{ia fundamental (**¿por qué**?) "
      ],
      "metadata": {
        "id": "lqSOQ4cJkcZA"
      }
    },
    {
      "cell_type": "code",
      "source": [
        "IRIS=IRIS.sample(frac=1)"
      ],
      "metadata": {
        "id": "auL0guCcGxjX"
      },
      "execution_count": 14,
      "outputs": []
    },
    {
      "cell_type": "markdown",
      "source": [
        "## FASE IV\n",
        "\n",
        "Exploración de los Datos.\n",
        "\n",
        "Si usted está leyendo este cuaderno, seguramente ya sabe que  todo trabajo de ciencia de datos debe comenzar por un estudio exploratorio de los datos. "
      ],
      "metadata": {
        "id": "nq5SwkUrmQSO"
      }
    },
    {
      "cell_type": "markdown",
      "source": [
        "### Ejercicio $\\#1$\n",
        "\n",
        "* En este caso, nos limitaremos a examinar histogramas de las cantidades medidas (atributos) de las muestras. \n",
        "\n",
        "* Los resultados sugieren que las distribuciones son multimodales, esto es obviamebnte consistente con la existencia de tres clases de Iris."
      ],
      "metadata": {
        "id": "5HCdbqpxJz15"
      }
    },
    {
      "cell_type": "code",
      "source": [
        "#df=pd.DataFrame()\n",
        "#df['batting']=batData\n",
        "#df['bowling']=bowlData\n",
        "\n",
        "sns.set(rc = {'figure.figsize':(15,8)})\n",
        "\n",
        "fig, ax =plt.subplots(1,2)\n",
        "#\n",
        "sns.histplot(IRIS[['SL','SW']].melt(),x='value', hue='variable',\n",
        "             multiple='dodge', shrink=.75, bins=20,ax=ax[0]).set(title='Longitud y Ancho del Sépalo');\n",
        "sns.histplot(IRIS[['PL','PW']].melt(),x='value', hue='variable',\n",
        "             multiple='dodge', shrink=.75, bins=20,ax=ax[1]).set(title='Longitud y Ancho del Pétalo');\n",
        "plt.show()"
      ],
      "metadata": {
        "id": "pX1GI1JrqpaR"
      },
      "execution_count": null,
      "outputs": []
    },
    {
      "cell_type": "markdown",
      "source": [
        "Si desea ver estos gráficos por separado, descomente las céldas que siguen."
      ],
      "metadata": {
        "id": "IhewlKlhuuAF"
      }
    },
    {
      "cell_type": "code",
      "source": [
        "#fig=sns.histplot(IRIS[['SL','SW']].melt(),x='value', hue='variable',\n",
        "#             multiple='dodge', shrink=.75, bins=20).set(title='Longitud y Ancho del Sépalo');\n"
      ],
      "metadata": {
        "id": "-BuAL8FeGSZZ"
      },
      "execution_count": 16,
      "outputs": []
    },
    {
      "cell_type": "code",
      "source": [
        "#fig=sns.histplot(IRIS[['PL','PW']].melt(),x='value', hue='variable',\n",
        "#             multiple='dodge', shrink=.75, bins=20).set(title='Longitud y Ancho del Pétalo');"
      ],
      "metadata": {
        "id": "Un_A_7LBJZsQ"
      },
      "execution_count": 17,
      "outputs": []
    },
    {
      "cell_type": "code",
      "source": [
        "# Si desea ver la forma de obtener un histograma sin invocar ningún móduolo diferente a pandas, \n",
        "#retire el comentario de la siguiente línea de código.\n",
        "\n",
        "# hist = IRIS.hist(column='PW') #bins=3"
      ],
      "metadata": {
        "id": "O_9b1PvSCN_M"
      },
      "execution_count": 18,
      "outputs": []
    },
    {
      "cell_type": "markdown",
      "source": [
        "### Ejercicio $\\#2$\n",
        "\n",
        "* El siguiente ejercicio consiste en examinar graficos de cruce (crossplots) de las varialbes (atributos). \n",
        "\n",
        "* Esta vez no se ve una clara separación en dos grupos, lo que da pie a pensar que la clasificación quizá resulta factible. "
      ],
      "metadata": {
        "id": "ZjFpiHPYKYNH"
      }
    },
    {
      "cell_type": "code",
      "source": [
        "fig = plt.figure(figsize=(18, 4))\n",
        "fig.suptitle('Gráficos Cruzados')\n",
        "\n",
        "# Adds subplot on position 1\n",
        "ax_1 = fig.add_subplot(121)\n",
        "ax_1.set_xlabel('Longitud del Sépalo', fontsize=14)\n",
        "ax_1.set_ylabel('Ancho del Sépalo', fontsize=14)\n",
        "\n",
        "# Adds subplot on position 2\n",
        "ax_2 = fig.add_subplot(122)\n",
        "ax_2.set_xlabel('Longitud del Pétalo', fontsize=14)\n",
        "ax_2.set_ylabel('Ancho del Pétalo', fontsize=14)\n",
        "\n",
        "# What we actually plot\n",
        "ax_1.scatter(IRIS['SL'], IRIS['SW'],cmap='gist_rainbow')\n",
        "#\n",
        "ax_2.scatter(IRIS['PL'], IRIS['PW'],cmap='gist_rainbow')\n",
        "#\n",
        "plt.show()"
      ],
      "metadata": {
        "id": "GBqBlbdWvFEb"
      },
      "execution_count": null,
      "outputs": []
    },
    {
      "cell_type": "markdown",
      "source": [
        "### Ejercicio $\\#3$ \n",
        "\n",
        "En este nuevo ejercicio, utilizamos la clasificación original que viene con los datos para colorear los puntos en los crossplots. Cada color corresponde a una de las tres clases. \n",
        "\n",
        "Evidentemente una de las clases se separa totalmente de las otras dos, y hay una cierta superposición entre las otras dos clases."
      ],
      "metadata": {
        "id": "B3dUEqBPLb6f"
      }
    },
    {
      "cell_type": "code",
      "source": [
        "clase=[] # Esta lista se utiliza para colorear los puntos de los crossplots\n",
        "clase=IRIS['Clase']"
      ],
      "metadata": {
        "id": "p9Dh2y5wHMPd"
      },
      "execution_count": 20,
      "outputs": []
    },
    {
      "cell_type": "code",
      "source": [
        "fig = plt.figure(figsize=(18, 4))\n",
        "fig.suptitle('Gráficos Cruzados coloreados según las etiquetas')\n",
        "\n",
        "# Adds subplot on position 1\n",
        "ax_1 = fig.add_subplot(121)\n",
        "ax_1.set_xlabel('Longitud del Sépalo', fontsize=14)\n",
        "ax_1.set_ylabel('Ancho del Sépalo', fontsize=14)\n",
        "\n",
        "# Adds subplot on position 2\n",
        "ax_2 = fig.add_subplot(122)\n",
        "ax_2.set_xlabel('Longitud del Pétalo', fontsize=14)\n",
        "ax_2.set_ylabel('Ancho del Pétalo', fontsize=14)\n",
        "\n",
        "# What we actually plot\n",
        "ax_1.scatter(IRIS['SL'], IRIS['SW'], c=clase, cmap='gist_rainbow') # El parámetro c aplica colores según las etiquetas dadas por clase\n",
        "#\n",
        "ax_2.scatter(IRIS['PL'], IRIS['PW'], c=clase, cmap='gist_rainbow')\n",
        "#lt.scatter(IRIS['SL'], IRIS['SW'], c=clase, cmap='gist_rainbow') # El parált.scatter(IRIS['SL'], IRIS['SW'], c=clase, cmap='gist_rainbow') # El parámetro c aplica colores según las etiquetas dadas por clase\n",
        "plt.xlabel('Longitud del sépalo', fontsize=16)\n",
        "plt.ylabel('Grosor del sépalo', fontsize=16) # Sepal Widthmetro c aplica colores según las etiquetas dadas por clase\n",
        "plt.xlabel('Longitud del sépalo', fontsize=16)\n",
        "plt.ylabel('Grosor del sépalo', fontsize=16) # Sepal Width\n",
        "plt.show()"
      ],
      "metadata": {
        "id": "I_u9xjooxsK2"
      },
      "execution_count": null,
      "outputs": []
    },
    {
      "cell_type": "markdown",
      "source": [
        "Si desea ver estos gráficos por separado, descomente las siguientes celdas"
      ],
      "metadata": {
        "id": "exMbJm9NyZ4z"
      }
    },
    {
      "cell_type": "code",
      "source": [
        "#plt.scatter(IRIS['SL'], IRIS['SW'], c=clase, cmap='gist_rainbow') # El parámetro c aplica colores según las etiquetas dadas por clase\n",
        "#plt.xlabel('Longitud del sépalo', fontsize=16)\n",
        "#plt.ylabel('Grosor del sépalo', fontsize=16) # Sepal Width"
      ],
      "metadata": {
        "id": "LX0AbOxSHBIa"
      },
      "execution_count": 22,
      "outputs": []
    },
    {
      "cell_type": "code",
      "source": [
        "#plt.scatter(IRIS['PL'], IRIS['PW'], c=yy, cmap='gist_rainbow')\n",
        "#plt.xlabel('Longitud del Pétalo', fontsize=18)\n",
        "#plt.ylabel('Abcho del del Pétalo', fontsize=18)"
      ],
      "metadata": {
        "id": "Y0LAhbv6ZX_J"
      },
      "execution_count": 23,
      "outputs": []
    },
    {
      "cell_type": "markdown",
      "source": [
        "## FASE V\n",
        "\n",
        "## **El Modelo**"
      ],
      "metadata": {
        "id": "V2ZSeXu4oBR_"
      }
    },
    {
      "cell_type": "markdown",
      "source": [
        "UNa vez que estamos razonablemente convencidos de que los dato se agrupan, efectivaente, en tres categorias, es el momento de estudiar su clasificación a través de KMEANS. "
      ],
      "metadata": {
        "id": "_ywXotFkMHHW"
      }
    },
    {
      "cell_type": "markdown",
      "source": [
        "Creamos un DataFrame sin la clasificación alfanumerica y manteneos la categorías numéricas por si en algún momento quisieramos comparar."
      ],
      "metadata": {
        "id": "vtuo0x9N4SUp"
      }
    },
    {
      "cell_type": "code",
      "source": [
        "IRIS_KM=IRIS[['SL','SW','PL','PW','Clase']]"
      ],
      "metadata": {
        "id": "0T_Kw7N9agnB"
      },
      "execution_count": 24,
      "outputs": []
    },
    {
      "cell_type": "markdown",
      "source": [
        "* Al invocar el módulo de KMEANS paracrear el modelo, proponemos a priori la existencia de tres grupos (clusters). \n",
        "\n",
        "* En verdad ya sabemos que debe haber tres grupos, pero todo sea por la pedagogía.\n",
        "\n",
        "* Nótese que el agrupamiento se hace sobre los predictores **SIN** incluir la clase, es debido a esto que KMEANS es un algoritmo de aprendizaje **no supervisado**"
      ],
      "metadata": {
        "id": "bPnDkOnBMZXX"
      }
    },
    {
      "cell_type": "markdown",
      "source": [
        "## Creación del **MODELO**\n",
        "\n",
        "* En este caso, el modelo no es otra cosa que el conjunto de centros de los grupos y sus radios.\n",
        "* Bautizamos a nuestro modelo como: **km**"
      ],
      "metadata": {
        "id": "2bMIHfk6VwO0"
      }
    },
    {
      "cell_type": "code",
      "source": [
        "# Una forma de crear el modelo es en dos líneas de código\n",
        "\n",
        "#km = KMeans(n_clusters = 3, n_init = 4, random_state=21)\n",
        "#km.fit(IRIS_KM[['SL','SW','PL','PW']])\n",
        "\n",
        "# pero un verdadero Pytonista encuentra más elegante hacer todo enb una sola líunea de código\n",
        "km = KMeans(n_clusters = 3, n_init = 4, random_state=21).fit(IRIS_KM[['SL','SW','PL','PW']])"
      ],
      "metadata": {
        "id": "t6h69Wv-ZsKi"
      },
      "execution_count": 25,
      "outputs": []
    },
    {
      "cell_type": "markdown",
      "source": [
        "km contene, ente otras cosas, los centros de los tres clusters."
      ],
      "metadata": {
        "id": "hECUa2WEMlqf"
      }
    },
    {
      "cell_type": "code",
      "source": [
        "# Acá asignamos los centro de los tres grupos a la variable \n",
        "# center que resulta ser una lista de listas\n",
        "\n",
        "centers = km.cluster_centers_ \n",
        "\n",
        "# Uno de los tres centros tiene coordenadas:\n",
        "\n",
        "print(centers[0])"
      ],
      "metadata": {
        "id": "DfS1VADoa9-5"
      },
      "execution_count": null,
      "outputs": []
    },
    {
      "cell_type": "code",
      "source": [
        "# km también contiene las etiquetas que asignó a cada una\n",
        "# de las muestras de entrenamiento \n",
        "km.labels_"
      ],
      "metadata": {
        "id": "a_awcsGaVYTE"
      },
      "execution_count": null,
      "outputs": []
    },
    {
      "cell_type": "markdown",
      "source": [
        "* El modelo ha sido construido.\n",
        "* Recoremos que -entre otras cosas- el modelo contiene:\n",
        "\n",
        "    * Los centros de los grupos, almacenados en la variable km.cluster_centers_  y\n",
        "    * Las etiquetas asignadas a cada grupo que se almacenan en la variable: km.labels_"
      ],
      "metadata": {
        "id": "f-_3okB3dHXO"
      }
    },
    {
      "cell_type": "markdown",
      "source": [
        "A continuación mostraremos los resultados que se obtienen al hacer gráficos cruzados coloreados del conjuto de datos en lo que se incluyen las etiquetas originales y asignadas por el modelo."
      ],
      "metadata": {
        "id": "lM_q51kvd5uR"
      }
    },
    {
      "cell_type": "code",
      "source": [
        "# Plot the identified clusters and compare with the answers\n",
        "\n",
        "fig, axes = plt.subplots(2, 2, figsize=(20,20))\n",
        "\n",
        "axes[0,0].scatter(IRIS_KM[['SL']],IRIS_KM[['SW']], c=clase, cmap='gist_rainbow',\n",
        "edgecolor='k', s=150)\n",
        "\n",
        "axes[0,1].scatter(IRIS_KM[['SL']],IRIS_KM[['SW']], c=km.labels_, cmap='ocean',\n",
        "edgecolor='k', s=150)\n",
        "\n",
        "axes[0,0].set_xlabel('Longitud del sépalo', fontsize=14)\n",
        "axes[0,0].set_ylabel('Ancho del sépalo', fontsize=14)\n",
        "\n",
        "axes[0,1].set_xlabel('Longitud del sépalo', fontsize=14)\n",
        "axes[0,1].set_ylabel('Ancho del sépalo', fontsize=18)\n",
        "\n",
        "axes[0,0].tick_params(direction='in', length=10, width=5, colors='k', labelsize=20)\n",
        "axes[0,1].tick_params(direction='in', length=10, width=5, colors='k', labelsize=20)\n",
        "\n",
        "axes[0,0].set_title('Clasificación original', fontsize=14)\n",
        "\n",
        "axes[0,1].set_title('Clasificación asignada por el modelo', fontsize=14)\n",
        "\n",
        "axes[1,0].scatter(IRIS_KM[['PL']],IRIS_KM[['PW']], c=clase, cmap='gist_rainbow',\n",
        "edgecolor='k', s=150)\n",
        "\n",
        "axes[1,1].scatter(IRIS_KM[['PL']],IRIS_KM[['PW']], c=km.labels_, cmap='ocean',\n",
        "edgecolor='k', s=150)\n",
        "\n",
        "axes[1,0].set_xlabel('Longitud del pétalo', fontsize=14)\n",
        "axes[1,0].set_ylabel('Ancho del pétalo', fontsize=14)\n",
        "\n",
        "axes[1,1].set_xlabel('Longitud del pétalo', fontsize=14)\n",
        "axes[1,1].set_ylabel('Ancho del pétalo', fontsize=18)\n",
        "\n",
        "axes[1,0].tick_params(direction='in', length=10, width=5, colors='k', labelsize=20)\n",
        "axes[1,1].tick_params(direction='in', length=10, width=5, colors='k', labelsize=20)\n",
        "\n",
        "axes[1,0].set_title('Clasificación original', fontsize=14)\n",
        "\n",
        "axes[1,1].set_title('Clasificación asignada por el modelo', fontsize=14)\n",
        "\n",
        "# Si quiere descargar el gráfico, \n",
        "# decomentelas siguientes líneas de código\n",
        "plt.savefig(\"visualizacion.png\",format=\"png\")\n",
        "files.download(\"visualizacion.png\") \n",
        "\n"
      ],
      "metadata": {
        "id": "sCqWRMvlgfcB"
      },
      "execution_count": null,
      "outputs": []
    },
    {
      "cell_type": "markdown",
      "source": [
        "## **PREDICCIÓN**: \n",
        "\n",
        "* Una predicción no es más queesto  la **clasificación** de datos *desconocidos*\n",
        "\n",
        "* La clasificación/prediccion funciona de la siguiente manera: entegamos los atributos de una muestra desconocida al modelo y este retorna la etiqueta del cluster a quepertenece la muestra.  \n",
        "\n",
        "* Para este ejercicio se crea un pequeño DataFrame (X) con datos de flores Iris que entregaremos a nuestro modelo (km) para la clasificación de sus elementos.\n",
        "\n",
        "* **NOTA:** En este cuaderno (V1.0), X contiene datos que usamos para el entrenamiento mismo, no deberíamos hacer esto. En versiones futuras evitaré esta inconveniencia. "
      ],
      "metadata": {
        "id": "VfAOJRD9XVW8"
      }
    },
    {
      "cell_type": "code",
      "source": [
        "# Muestras y su clasificación\n",
        "\n",
        "# 5.1\t3.5\t1.4\t0.2 I Setosa\n",
        "# 6.3\t3.3\t6.0\t2.5\tI Virginica\n",
        "# 6.7\t3.0\t5.2\t2.3\tIris-virginica\t\n",
        "#\t6.7\t3.0\t5.0\t1.7\tI Versicolor\n",
        "# 5.2 2.7 3.9 1.4 I Versicolor\t\n",
        "\n",
        "# Crearemos el DataFrame a patir de un diccionario:\n",
        "\n",
        "DATOS={'SL':[5.1,6.3,6.7,6.7,5.2],\n",
        "        'SW': [3.5,3.3,3.0,3.0,2.7],\n",
        "        'PL':[1.4,6.0,5.2,5.0,3.9],\n",
        "        'PW':[0.2,2.5,2.3,1.7,1.4]}\n",
        "\n",
        "X=pd.DataFrame(DATOS,columns= ['SL','SW','PL','PW'])"
      ],
      "metadata": {
        "id": "_OrvS1i7R_Hm"
      },
      "execution_count": 29,
      "outputs": []
    },
    {
      "cell_type": "markdown",
      "source": [
        "## Resultados de la predicción\n",
        "\n",
        "* El resultado se almacena en una lista (Prediccion) que contiene las etiquetas en el orden en que aparecen las muestras en X.\n",
        "\n",
        "* Una de las muestras (¿cuál?) resultó mal clasificada."
      ],
      "metadata": {
        "id": "J5MQR034eEhS"
      }
    },
    {
      "cell_type": "code",
      "source": [
        "Prediccion=km.predict(X, sample_weight=None)\n",
        "print(Prediccion)"
      ],
      "metadata": {
        "id": "A33NCUq3VlKM"
      },
      "execution_count": null,
      "outputs": []
    },
    {
      "cell_type": "markdown",
      "source": [
        "## Es necesario introducir algunas métricas para evaluar el método de aprendizaje que se ha usado.\n",
        "\n",
        "En esta primera verión del cuaderno, no mostraremos este paso fundamental"
      ],
      "metadata": {
        "id": "OOsikBqKLg3J"
      }
    },
    {
      "cell_type": "markdown",
      "source": [
        "## Esto termina el análisi de los datos de la UCI"
      ],
      "metadata": {
        "id": "9fO5wXxe5Qyq"
      }
    },
    {
      "cell_type": "markdown",
      "source": [
        "## Es tiempo de una nueva aventura"
      ],
      "metadata": {
        "id": "4vv5ls-cBndm"
      }
    },
    {
      "cell_type": "markdown",
      "source": [
        "<center><img src='https://upload.wikimedia.org/wikipedia/commons/thumb/e/e1/Ark_white_water1101.jpg/640px-Ark_white_water1101.jpg'></center>"
      ],
      "metadata": {
        "id": "1z4J9pgb8gE7"
      }
    },
    {
      "cell_type": "markdown",
      "source": [
        "----------------------------------------------------------------------\n",
        "## Otra versión del conjunto de datos\n",
        "\n",
        "En esta nueva parte del cuadeno repetiremos los mismos ejercicios, solo que esta vez utilizará los datos del texto [A Handbook of Small Data Sets\n",
        "](https://books.google.com.co/books/about/A_Handbook_of_Small_Data_Sets.html?id=m4O1DwAAQBAJ&printsec=frontcover&source=kp_read_button&hl=en&redir_esc=y#v=onepage&q&f=false) de By David J. Hand, Fergus Daly, K. McConway, D. Lunn, E. Ostrowski. Que puede descargar de este [enlace](https://www2.stat.duke.edu/courses/Spring09/sta114/114data.html)\n",
        "\n",
        "En el texto, la referencia está en la página 25.\n",
        "\n",
        "* Este ejercicio tiene varios objetivos, entre otros:\n",
        "    * Incluir celdas de texto en que usted explique cada paso que aparece en las celdas de código,\n",
        "    * Destacar las diferencias (si es que hay) en los datos que descargó\n",
        "\n",
        "**NOTA:** Haga énfasis en ¨los datos¨ y no en el código."
      ],
      "metadata": {
        "id": "qLVBW6nIcEUB"
      }
    },
    {
      "cell_type": "markdown",
      "source": [
        "Al igual que se hizo antes, es necesario cambiar la extensión del archivo .dat"
      ],
      "metadata": {
        "id": "u3xga2kOCkAD"
      }
    },
    {
      "cell_type": "code",
      "source": [
        "df=pd.read_csv('IRISES.csv',sep='\\t',header=None)\n",
        "\n",
        "df.shape"
      ],
      "metadata": {
        "id": "0CBqH21ZQdpj"
      },
      "execution_count": null,
      "outputs": []
    },
    {
      "cell_type": "code",
      "source": [
        "df.head()"
      ],
      "metadata": {
        "id": "9EWVCQYUwv_8"
      },
      "execution_count": null,
      "outputs": []
    },
    {
      "cell_type": "code",
      "source": [
        "Medidas=['IS SL','IS SW','IS PL','IS PW',\n",
        "        'IVe SL','IVe SW','IVe PL','IVe PW',\n",
        "        'IVi SL','IVi SW','IVi PL','IVi PW']"
      ],
      "metadata": {
        "id": "qR8FnnX1Q_gt"
      },
      "execution_count": 33,
      "outputs": []
    },
    {
      "cell_type": "code",
      "source": [
        "df.columns = Medidas"
      ],
      "metadata": {
        "id": "v_OtLxpaRi3z"
      },
      "execution_count": 34,
      "outputs": []
    },
    {
      "cell_type": "code",
      "source": [
        "df"
      ],
      "metadata": {
        "id": "49YMKYbCRmYa"
      },
      "execution_count": null,
      "outputs": []
    },
    {
      "cell_type": "code",
      "source": [
        "I_Setosa=df[['IS SL','IS SW','IS PL','IS PW']]\n",
        "I_Versicolor=df[['IVe SL','IVe SW','IVe PL','IVe PW']]\n",
        "I_Virginica=df[['IVe SL','IVe SW','IVe PL','IVe PW']]\n",
        "\n",
        "I_Setosa.shape"
      ],
      "metadata": {
        "id": "j7j0PkQJWJgX"
      },
      "execution_count": null,
      "outputs": []
    },
    {
      "cell_type": "code",
      "source": [
        "setosa = [0]*50\n",
        "versicolor = [1]*50\n",
        "virginica= [2]*50\n",
        "Setosa = pd.Series(data=setosa,name='Identificador')\n",
        "Versicolor = pd.Series(data=versicolor,name='Identificador')\n",
        "Virginica = pd.Series(data=virginica,name='Identificador')"
      ],
      "metadata": {
        "id": "Td-YjtlBdSxO"
      },
      "execution_count": 37,
      "outputs": []
    },
    {
      "cell_type": "code",
      "source": [
        "I_Setosa=pd.concat([I_Setosa,Setosa],axis=1)\n",
        "I_Versicolor=pd.concat([I_Versicolor,Versicolor],axis=1)\n",
        "I_Virginica=pd.concat([I_Virginica,Virginica],axis=1)"
      ],
      "metadata": {
        "id": "1svA-vkuXlbe"
      },
      "execution_count": 38,
      "outputs": []
    },
    {
      "cell_type": "code",
      "source": [
        "I_Setosa"
      ],
      "metadata": {
        "id": "RuNl-T0Yhd2h"
      },
      "execution_count": null,
      "outputs": []
    },
    {
      "cell_type": "code",
      "source": [
        "Columnas=['SL','SW','PL','PW','Y']\n",
        "\n",
        "I_Setosa.columns=Columnas\n",
        "I_Versicolor.columns=Columnas\n",
        "I_Virginica.columns=Columnas"
      ],
      "metadata": {
        "id": "wMwdv1zclUWP"
      },
      "execution_count": 40,
      "outputs": []
    },
    {
      "cell_type": "code",
      "source": [
        "# https://pandas.pydata.org/docs/reference/api/pandas.concat.html\n",
        "\n",
        "TODAS=pd.concat([I_Setosa, I_Versicolor,I_Virginica]) # Al tenerr mismos nombres de columna y concatenar, pone los df uno encima del otro"
      ],
      "metadata": {
        "id": "T3-ZeW6vkx6Q"
      },
      "execution_count": 41,
      "outputs": []
    },
    {
      "cell_type": "code",
      "source": [
        "\n",
        "TODAS.sample(frac=1)\n"
      ],
      "metadata": {
        "id": "xDaym3l8mbBG"
      },
      "execution_count": null,
      "outputs": []
    },
    {
      "cell_type": "code",
      "source": [
        "TODAS.shape\n",
        "\n",
        "TODAS.Y.unique()"
      ],
      "metadata": {
        "colab": {
          "base_uri": "https://localhost:8080/"
        },
        "id": "RihNeqsyv950",
        "outputId": "18170809-2c0d-4d37-bc2c-9f2f4feecf5f"
      },
      "execution_count": 43,
      "outputs": [
        {
          "output_type": "execute_result",
          "data": {
            "text/plain": [
              "array([0, 1, 2])"
            ]
          },
          "metadata": {},
          "execution_count": 43
        }
      ]
    },
    {
      "cell_type": "code",
      "source": [
        "y=[]\n",
        "y=TODAS['Y']"
      ],
      "metadata": {
        "id": "3k0paEKjvN2F"
      },
      "execution_count": 44,
      "outputs": []
    },
    {
      "cell_type": "code",
      "source": [
        "TODAS.max(axis=0)"
      ],
      "metadata": {
        "colab": {
          "base_uri": "https://localhost:8080/"
        },
        "id": "IzStijQoxbRU",
        "outputId": "0a9c9b43-1224-47ad-9e3c-e886ee3bbe86"
      },
      "execution_count": 45,
      "outputs": [
        {
          "output_type": "execute_result",
          "data": {
            "text/plain": [
              "SL    7.0\n",
              "SW    4.4\n",
              "PL    5.1\n",
              "PW    1.8\n",
              "Y     2.0\n",
              "dtype: float64"
            ]
          },
          "metadata": {},
          "execution_count": 45
        }
      ]
    },
    {
      "cell_type": "code",
      "source": [
        "plt.scatter(TODAS['SL'], TODAS['SW'], cmap='gist_rainbow')\n",
        "plt.xlabel('Sepa1 Length', fontsize=18)\n",
        "plt.ylabel('Sepal Width', fontsize=18)"
      ],
      "metadata": {
        "id": "o3ZO5-hBtCUd"
      },
      "execution_count": null,
      "outputs": []
    },
    {
      "cell_type": "code",
      "source": [
        "plt.scatter(TODAS['SL'], TODAS['SW'], c=y, cmap='gist_rainbow') # El parámetro c aplica colores según los índices dados por y\n",
        "plt.xlabel('Sepa1 Length', fontsize=18)\n",
        "plt.ylabel('Sepal Width', fontsize=18)"
      ],
      "metadata": {
        "id": "gjqSzRYtt682"
      },
      "execution_count": null,
      "outputs": []
    },
    {
      "cell_type": "markdown",
      "source": [
        "<center><img src='https://upload.wikimedia.org/wikipedia/commons/thumb/b/b4/MODOT_W14-7.svg/480px-MODOT_W14-7.svg.png'></center>"
      ],
      "metadata": {
        "id": "-31KjvqEEZKG"
      }
    },
    {
      "cell_type": "markdown",
      "source": [
        "# De acá en adelante, **usted** tiene que completar los pasos que le lleven hasta una predicción"
      ],
      "metadata": {
        "id": "dTIwJeMxEGMG"
      }
    }
  ]
}