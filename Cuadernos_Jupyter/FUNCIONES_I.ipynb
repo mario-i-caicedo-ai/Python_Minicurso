{
  "nbformat": 4,
  "nbformat_minor": 0,
  "metadata": {
    "colab": {
      "name": "FUNCIONES_I.ipynb",
      "provenance": [],
      "collapsed_sections": [],
      "include_colab_link": true
    },
    "kernelspec": {
      "name": "python3",
      "display_name": "Python 3"
    }
  },
  "cells": [
    {
      "cell_type": "markdown",
      "metadata": {
        "id": "view-in-github",
        "colab_type": "text"
      },
      "source": [
        "<a href=\"https://colab.research.google.com/github/mario-i-caicedo-ai/Python_Minicurso/blob/main/Cuadernos_Jupyter/FUNCIONES_I.ipynb\" target=\"_parent\"><img src=\"https://colab.research.google.com/assets/colab-badge.svg\" alt=\"Open In Colab\"/></a>"
      ]
    },
    {
      "cell_type": "markdown",
      "source": [
        "# FUNCIONES\n",
        "\n",
        "* Una función es un bloque de código que se ejecuta **única y excliusivamente** cuando es **llamado**\n",
        "\n",
        "* Las funciones deben ser definidas y para ello se usa la palabra clave **def**\n",
        "\n",
        "* Una función espera que se le **pasen** datos llamados **parámetros**, una función puede no recibir parámetro alguno .\n",
        "\n",
        "* Al llamar una función, esta puede retornar datos, aunque esto no es necesario, como ocurre en el caso de aquellas funciones en C y C++ que se declaran acompañadas del prefijo void, como por ejemplo (C++):\n",
        "\n",
        "void printmessage ( )\n",
        "\n",
        "{\n",
        "\n",
        " cout << \"Soy una función que únicamente imprimo un mensaje!\";\n",
        "\n",
        "}\n",
        "\n",
        "\n",
        "* **Python** admite elementos de **programación funcional**, una función admite como parámretros otras funciones y puede dar una función como resultado.\n"
      ],
      "metadata": {
        "id": "jcbh3T32luJn"
      }
    },
    {
      "cell_type": "code",
      "source": [
        "# Ejemplo 1. Una función sin argumentos (parámetros) y que no retorna ningún valor\n",
        "\n",
        "def primera_funcion():\n",
        "  print(\"Hola, vengo de una funcion\")"
      ],
      "metadata": {
        "id": "BPxfT3fr8RTm"
      },
      "execution_count": 1,
      "outputs": []
    },
    {
      "cell_type": "code",
      "source": [
        "primera_funcion() # Llamada a la función"
      ],
      "metadata": {
        "colab": {
          "base_uri": "https://localhost:8080/"
        },
        "id": "EVb0FO588lUM",
        "outputId": "4a1ba547-261e-4a7e-864c-47639cf5cb88"
      },
      "execution_count": 2,
      "outputs": [
        {
          "output_type": "stream",
          "name": "stdout",
          "text": [
            "Hola, vengo de una funcion\n"
          ]
        }
      ]
    },
    {
      "cell_type": "code",
      "source": [
        "#\n",
        "# Ejemplo 2. Una función de un solo argumento\n",
        "# acá el parámetro es *nombre* que aparece como valor cuando se llama a la función\n",
        "# \n",
        "def nombre_y_apellido(nombre):\n",
        "  print(nombre + \" González\")"
      ],
      "metadata": {
        "id": "DPPjdGuH8vcb"
      },
      "execution_count": 3,
      "outputs": []
    },
    {
      "cell_type": "code",
      "source": [
        "# Tres llamadas diferentes a la misma función\n",
        "nombre_y_apellido(\"Emilio\")\n",
        "nombre_y_apellido(\"Ana\")\n",
        "nombre_y_apellido(\"Antonia\")"
      ],
      "metadata": {
        "colab": {
          "base_uri": "https://localhost:8080/"
        },
        "id": "6qkGmIXf4MkR",
        "outputId": "dfc933f9-f12a-47a1-bd78-7224406b8dfe"
      },
      "execution_count": 4,
      "outputs": [
        {
          "output_type": "stream",
          "name": "stdout",
          "text": [
            "Emilio González\n",
            "Ana González\n",
            "Antonia González\n"
          ]
        }
      ]
    },
    {
      "cell_type": "code",
      "source": [
        "# Ejemplo 3. Función de un dos parámetros\n",
        "def nombre_y_apellido(nombre,apellido):\n",
        "  print(nombre + \" \" + apellido)"
      ],
      "metadata": {
        "id": "2riyWxyb9bsa"
      },
      "execution_count": 5,
      "outputs": []
    },
    {
      "cell_type": "code",
      "source": [
        "nombre_y_apellido(\"Robin\") # llamada incorrecta, la función espera dos parámetros. Se genera un error"
      ],
      "metadata": {
        "id": "VVBktKXi9qJj",
        "colab": {
          "base_uri": "https://localhost:8080/",
          "height": 171
        },
        "outputId": "3e4e0fd0-7da2-4c21-dc69-a404ec11da78"
      },
      "execution_count": 6,
      "outputs": [
        {
          "output_type": "error",
          "ename": "TypeError",
          "evalue": "ignored",
          "traceback": [
            "\u001b[0;31m---------------------------------------------------------------------------\u001b[0m",
            "\u001b[0;31mTypeError\u001b[0m                                 Traceback (most recent call last)",
            "\u001b[0;32m<ipython-input-6-01f98302aff8>\u001b[0m in \u001b[0;36m<module>\u001b[0;34m()\u001b[0m\n\u001b[0;32m----> 1\u001b[0;31m \u001b[0mnombre_y_apellido\u001b[0m\u001b[0;34m(\u001b[0m\u001b[0;34m\"Robin\"\u001b[0m\u001b[0;34m)\u001b[0m \u001b[0;31m# llamada incorrecta, la función espera dos parámetros. Se genera un error\u001b[0m\u001b[0;34m\u001b[0m\u001b[0;34m\u001b[0m\u001b[0m\n\u001b[0m",
            "\u001b[0;31mTypeError\u001b[0m: nombre_y_apellido() missing 1 required positional argument: 'apellido'"
          ]
        }
      ]
    },
    {
      "cell_type": "code",
      "source": [
        "nombre_y_apellido(\"Robin\",'Hood') "
      ],
      "metadata": {
        "colab": {
          "base_uri": "https://localhost:8080/"
        },
        "id": "dDhgVZJo90nA",
        "outputId": "70654e35-9c3b-438f-97da-fd5afa329d59"
      },
      "execution_count": 7,
      "outputs": [
        {
          "output_type": "stream",
          "name": "stdout",
          "text": [
            "Robin Hood\n"
          ]
        }
      ]
    },
    {
      "cell_type": "markdown",
      "source": [
        "Obviamente se pueden pasar tuplas, listas, etc."
      ],
      "metadata": {
        "id": "1-VnnhbU9Moa"
      }
    },
    {
      "cell_type": "code",
      "source": [
        "def familia(A):\n",
        "  for x in A:\n",
        "    print(x)"
      ],
      "metadata": {
        "id": "4095ZKdZ5mUM"
      },
      "execution_count": 8,
      "outputs": []
    },
    {
      "cell_type": "code",
      "source": [
        "hijos_hilda=(\"Mario\", \"Segio\", \"Daniel\")\n",
        "hijos_mario=['María','Mario Sebastián','Sophie']\n",
        "\n",
        "familia(hijos_hilda)\n",
        "\n",
        "familia(hijos_mario)"
      ],
      "metadata": {
        "colab": {
          "base_uri": "https://localhost:8080/"
        },
        "id": "A_bt4phy8GPJ",
        "outputId": "455e2b3a-95c2-4e66-d4cc-05b9e5ad9144"
      },
      "execution_count": 9,
      "outputs": [
        {
          "output_type": "stream",
          "name": "stdout",
          "text": [
            "Mario\n",
            "Segio\n",
            "Daniel\n",
            "María\n",
            "Mario Sebastián\n",
            "Sophie\n"
          ]
        }
      ]
    },
    {
      "cell_type": "markdown",
      "source": [
        "En el caso en que no se conozcan a priori el número de parámetros que pasan a una función se utiliza un asterico (*)"
      ],
      "metadata": {
        "id": "WpjfBOn24vbE"
      }
    },
    {
      "cell_type": "code",
      "source": [
        "# Ejemplo 4. Función patra un número indeterminado de parámetros\n",
        "def mi_funcion(*hijos): # * significa que no conozco a priori el número de parámetros que voy a pasra\n",
        "  print(\"El hijo menor es \" + hijos[1]) # La función lee todos los argumentos y los interpreta como una tupla"
      ],
      "metadata": {
        "id": "WjtE0dnY97d4"
      },
      "execution_count": 10,
      "outputs": []
    },
    {
      "cell_type": "code",
      "source": [
        "mi_funcion(\"Mario\", \"Sergio\", \"Daniel\")"
      ],
      "metadata": {
        "colab": {
          "base_uri": "https://localhost:8080/"
        },
        "id": "pXMtt6KP7RJY",
        "outputId": "e0e5a1f9-9212-4d23-e9ad-c24dff5e2e39"
      },
      "execution_count": 11,
      "outputs": [
        {
          "output_type": "stream",
          "name": "stdout",
          "text": [
            "El hijo menor es Sergio\n"
          ]
        }
      ]
    },
    {
      "cell_type": "code",
      "source": [
        "mi_funcion(\"Don Gato\",\"Demóstenes\",\"Cucho\",\"Espanto\",\"Panza\",\"Benito\")"
      ],
      "metadata": {
        "colab": {
          "base_uri": "https://localhost:8080/"
        },
        "id": "0gWwVrBYpu0o",
        "outputId": "29e1670c-a451-4446-f12c-9b75c14fa1f0"
      },
      "execution_count": 13,
      "outputs": [
        {
          "output_type": "stream",
          "name": "stdout",
          "text": [
            "El hijo menor es Demóstenes\n"
          ]
        }
      ]
    },
    {
      "cell_type": "markdown",
      "source": [
        "\n",
        "mi_funcion(\"Mario\", \"Segio\", \"Daniel\")"
      ],
      "metadata": {
        "id": "etBbCD175Uwg"
      }
    },
    {
      "cell_type": "markdown",
      "source": [
        "### Argumentos por *palabra clave* (Keyword)\n",
        "\n",
        "* Se pueden pasar argumentos con la sintaxis: clave=valor\n",
        "\n",
        "* De esta manera el orden de los argumentos es irrelevante."
      ],
      "metadata": {
        "id": "TSOBzZ_q-uaM"
      }
    },
    {
      "cell_type": "code",
      "source": [
        "# Ejemplo 5\n",
        "def Hijos(hijo3,hijo1,hijo2):\n",
        "  print(\"El hijo menor es \" + hijo3)\n",
        "\n",
        "Hijos(hijo1 = \"Mario\", hijo3 = \"Sergio\", hijo2 = \"Daniel\")"
      ],
      "metadata": {
        "colab": {
          "base_uri": "https://localhost:8080/"
        },
        "id": "xqlh38fY-sY9",
        "outputId": "3f6446b7-5ffa-449b-c714-a019d7688106"
      },
      "execution_count": 14,
      "outputs": [
        {
          "output_type": "stream",
          "name": "stdout",
          "text": [
            "El hijo menor es Sergio\n"
          ]
        }
      ]
    },
    {
      "cell_type": "markdown",
      "source": [
        "### Número arbitrario de argumentos (**kwargs)\n",
        "\n",
        "* En el caso en que no se conozca a priori el número de keywords que van a pasarse, se añaden dos asteriscos antes del nombre del parámetro. \n",
        "\n",
        "* AL usar ** la función recibe un diccionario de argumentos, y de allí accesa los parámetros que están pasando."
      ],
      "metadata": {
        "id": "tpCT8JwC_d5N"
      }
    },
    {
      "cell_type": "code",
      "source": [
        "# Ejemplo 6\n",
        "def mi_funcion(**chico):\n",
        "  print(\"El nombre del niño es: \" + chico[\"nombre\"],'\\n')\n",
        "  print(\"El apellido del niño es: \" + chico[\"apellido\"])"
      ],
      "metadata": {
        "id": "KzKffJ6M_eHe"
      },
      "execution_count": 15,
      "outputs": []
    },
    {
      "cell_type": "code",
      "source": [
        "mi_funcion(nombre = \"Pepito\", apellido = \"Preguntón\")"
      ],
      "metadata": {
        "colab": {
          "base_uri": "https://localhost:8080/"
        },
        "id": "rx5LWKx_ARtx",
        "outputId": "adcba636-b7a7-47bf-dc2a-75653a45f19d"
      },
      "execution_count": 16,
      "outputs": [
        {
          "output_type": "stream",
          "name": "stdout",
          "text": [
            "El nombre del niño es: Pepito \n",
            "\n",
            "El apellido del niño es: Preguntón\n"
          ]
        }
      ]
    },
    {
      "cell_type": "markdown",
      "source": [
        "## Parámetros por *default*\n",
        "\n",
        "* Cuando queremos omitir un parámetro para usar un valor default\n",
        "definimos el parámetro dentro de la llamada a la función.\n",
        "* Los parámetros por default deben ir al final de la lista de parámetros\n"
      ],
      "metadata": {
        "id": "qOWyYsIhAw55"
      }
    },
    {
      "cell_type": "markdown",
      "source": [
        "Default Parameter Value\n",
        "The following example shows how to use a default parameter value.\n",
        "\n",
        "If we call the function without argument, it uses the default value:\n",
        "\n"
      ],
      "metadata": {
        "id": "B2cEJ9YIA1e-"
      }
    },
    {
      "cell_type": "code",
      "source": [
        "# Ejemplo 7\n",
        "def mi_origen(pais = \"Suecia\"):\n",
        "  print(\"Nací en  \" + pais,'\\n')"
      ],
      "metadata": {
        "id": "aZDRNFbtBgVs"
      },
      "execution_count": 19,
      "outputs": []
    },
    {
      "cell_type": "code",
      "source": [
        "mi_origen(\"Pakistan\")\n",
        "mi_origen(\"Mónaco\")\n",
        "mi_origen(\"Brasil\")\n",
        "mi_origen() # Usando el valor por default"
      ],
      "metadata": {
        "colab": {
          "base_uri": "https://localhost:8080/"
        },
        "id": "ekgSTd2RBwZF",
        "outputId": "3bdf4bc0-a5dc-49b8-dcd9-65dbde01109c"
      },
      "execution_count": 20,
      "outputs": [
        {
          "output_type": "stream",
          "name": "stdout",
          "text": [
            "Nací en  Pakistan \n",
            "\n",
            "Nací en  Mónaco \n",
            "\n",
            "Nací en  Brasil \n",
            "\n",
            "Nací en  Suecia \n",
            "\n"
          ]
        }
      ]
    },
    {
      "cell_type": "markdown",
      "source": [
        "# Return\n",
        "\n",
        "* Para que una función retorne un valor, se utiliza la *declaración* return"
      ],
      "metadata": {
        "id": "bdsz1T2Z_xZ-"
      }
    },
    {
      "cell_type": "code",
      "source": [
        "# Ejemplo 8\n",
        "def cuadruplicar(x):\n",
        "  return 4.*x"
      ],
      "metadata": {
        "id": "VZ4AIN19_wqe"
      },
      "execution_count": 21,
      "outputs": []
    },
    {
      "cell_type": "code",
      "source": [
        "for x in range(4):\n",
        "  print(cuadruplicar(x))"
      ],
      "metadata": {
        "colab": {
          "base_uri": "https://localhost:8080/"
        },
        "id": "9Sn8Jq-cCj4S",
        "outputId": "fd2b12ef-d092-4516-cf59-fa6da6bfd4fe"
      },
      "execution_count": 22,
      "outputs": [
        {
          "output_type": "stream",
          "name": "stdout",
          "text": [
            "0.0\n",
            "4.0\n",
            "8.0\n",
            "12.0\n"
          ]
        }
      ]
    },
    {
      "cell_type": "markdown",
      "source": [
        "### pass\n",
        "\n",
        "* El cuerpo (bloque de código de una función no puede estar vacio)\n",
        "\n",
        "* A veces convoene crear funciones con cuerpos vacios, para eso se utiliza la declaración pass"
      ],
      "metadata": {
        "id": "7WhqXVif_1ia"
      }
    },
    {
      "cell_type": "code",
      "source": [
        "# Ejemplo 9A\n",
        "def funcion_sin_cuerpo_1(x): # el cuerpo está vacio, se genera error\n",
        "\n",
        "funcion_sin_cuerpo_1(x)"
      ],
      "metadata": {
        "colab": {
          "base_uri": "https://localhost:8080/",
          "height": 135
        },
        "id": "HEre1dboDYDC",
        "outputId": "36475709-d5ba-4d5e-eafd-7b8bc894804d"
      },
      "execution_count": 23,
      "outputs": [
        {
          "output_type": "error",
          "ename": "IndentationError",
          "evalue": "ignored",
          "traceback": [
            "\u001b[0;36m  File \u001b[0;32m\"<ipython-input-23-06bc2e1ddb9c>\"\u001b[0;36m, line \u001b[0;32m4\u001b[0m\n\u001b[0;31m    funcion_sin_cuerpo_1(x)\u001b[0m\n\u001b[0m                       ^\u001b[0m\n\u001b[0;31mIndentationError\u001b[0m\u001b[0;31m:\u001b[0m expected an indented block\n"
          ]
        }
      ]
    },
    {
      "cell_type": "code",
      "source": [
        "# Ejemplo 9B\n",
        "def funcion_sin_cuerpo_1(x): # el cuerpo está vacio, se genera error\n",
        "  pass\n",
        "\n",
        "funcion_sin_cuerpo_1(x)"
      ],
      "metadata": {
        "id": "j6_O1Dd0Dugj"
      },
      "execution_count": 24,
      "outputs": []
    },
    {
      "cell_type": "markdown",
      "source": [
        "### Programación Funcional (primera visita)\n",
        "\n",
        "* Las funciones son fundamentales\n",
        "* UNa función puede pasar como parámetro"
      ],
      "metadata": {
        "id": "_GuvtPulEBGa"
      }
    },
    {
      "cell_type": "code",
      "source": [
        "# Ejemplo 10\n",
        "def triplicar(x):\n",
        "  trip=3.*x\n",
        "  return(trip)\n",
        "\n",
        "def mitad(x):\n",
        "  mid=x/2\n",
        "  return(mid)"
      ],
      "metadata": {
        "id": "IxoqKn_i_1ya"
      },
      "execution_count": 25,
      "outputs": []
    },
    {
      "cell_type": "code",
      "source": [
        "print(triplicar(mitad(3)))"
      ],
      "metadata": {
        "colab": {
          "base_uri": "https://localhost:8080/"
        },
        "id": "Qk7AhnCaAN03",
        "outputId": "a26d13f1-d19c-446f-ccf8-75a7ab4b6d9b"
      },
      "execution_count": 26,
      "outputs": [
        {
          "output_type": "stream",
          "name": "stdout",
          "text": [
            "4.5\n"
          ]
        }
      ]
    },
    {
      "cell_type": "code",
      "source": [
        "import numpy as np\n",
        "def componer_funciones(f,g,x):\n",
        "  Y=f(g(x))\n",
        "  return(Y)"
      ],
      "metadata": {
        "id": "CU6ZucoNrQQ7"
      },
      "execution_count": 36,
      "outputs": []
    },
    {
      "cell_type": "code",
      "source": [
        "def raiz_cuadrada(x):\n",
        "  r=np.sqrt(x)\n",
        "  return(r)\n",
        "\n",
        "def cuadrado(x):\n",
        "  s=x**2\n",
        "  return(s)"
      ],
      "metadata": {
        "id": "R-CwvkugstuA"
      },
      "execution_count": 37,
      "outputs": []
    },
    {
      "cell_type": "code",
      "source": [
        "print(componer_funciones(raiz_cuadrada,cuadrado,4.),'\\n')\n",
        "\n",
        "print(componer_funciones(np.sin,mitad,3*np.pi))"
      ],
      "metadata": {
        "colab": {
          "base_uri": "https://localhost:8080/"
        },
        "id": "EO1P4F-Ls3zX",
        "outputId": "46fa20a5-4ed2-4dbc-e2c9-ef2a7998f375"
      },
      "execution_count": 40,
      "outputs": [
        {
          "output_type": "stream",
          "name": "stdout",
          "text": [
            "4.0 \n",
            "\n",
            "-1.0\n"
          ]
        }
      ]
    },
    {
      "cell_type": "markdown",
      "source": [
        "## Recursión\n",
        "\n",
        "* Como consecuencia de que una función puede pasar como parámetro, una función puede llamarse a sí misma"
      ],
      "metadata": {
        "id": "ihswS1ytAe5_"
      }
    },
    {
      "cell_type": "code",
      "source": [
        "# Ejemplo 11\n",
        "def cuenta_regresiva(n):\n",
        "  print(n)\n",
        "  if n == 0:\n",
        "    return             # Terminate recursion\n",
        "  else:\n",
        "    cuenta_regresiva(n - 1)"
      ],
      "metadata": {
        "id": "DvmSA4J5BuhX"
      },
      "execution_count": null,
      "outputs": []
    },
    {
      "cell_type": "code",
      "source": [
        "cuenta_regresiva(5)"
      ],
      "metadata": {
        "colab": {
          "base_uri": "https://localhost:8080/"
        },
        "id": "-AEzL8eyFFak",
        "outputId": "952031b6-d50e-4c30-d4cd-d50e845c55cf"
      },
      "execution_count": null,
      "outputs": [
        {
          "output_type": "stream",
          "name": "stdout",
          "text": [
            "5\n",
            "4\n",
            "3\n",
            "2\n",
            "1\n",
            "0\n"
          ]
        }
      ]
    },
    {
      "cell_type": "markdown",
      "source": [
        "### Funciones lambda\n",
        "\n",
        "* La idea fundamental detrás de las funciones consiste en tenerlas definidas para poder utilizarlas cada vez que haga falta (programar de manera modular).\n",
        "\n",
        "* Por ejemplo, es interesante tener un módulo que calcule raices cuadradas y que se poueda llamar desde cualquier programa donde ese tipo de cálculo sea necesario. Lo mismo pocurre con módulos (funciones) para lectura y escritura de datos. etc. etc\n",
        "\n",
        "* Las funciones lambda son funciones que por su naturaleza carecen de la importancia necesaria como para constituir módulos. Por ejemplo, se utilizarán en un solo bloque de un programa y nunca más.\n",
        "\n",
        "* Las funciones lambda son *anónimas* (carecen de nombre)\n",
        "\n",
        "* Pueden tomar un número arbitrario de parámetros pero solo pueden tener *una expresión*\n",
        "\n",
        "* La sintaxis para una función lambda es:\n",
        "\n",
        "  * **lambda xxx : expresión**\n"
      ],
      "metadata": {
        "id": "2ZdQRUt0FX5V"
      }
    },
    {
      "cell_type": "code",
      "source": [
        "# Ejemplo 12\n",
        "x = lambda a : a + 10\n",
        "print(x(5))"
      ],
      "metadata": {
        "colab": {
          "base_uri": "https://localhost:8080/"
        },
        "id": "l2s1tPH-A_BI",
        "outputId": "40965f73-2da5-4f02-cf48-46604b02afbd"
      },
      "execution_count": null,
      "outputs": [
        {
          "output_type": "stream",
          "name": "stdout",
          "text": [
            "15\n"
          ]
        }
      ]
    },
    {
      "cell_type": "markdown",
      "source": [
        "## Un par de ejemplos interesantes\n",
        "\n",
        "* Mostraremos como calcular el factorial de un número \n",
        "\n",
        "    * Usando recursión sobre una función ordinaria\n",
        "    * Usando recursión sobre una funación lambda "
      ],
      "metadata": {
        "id": "bml_decsIb8o"
      }
    },
    {
      "cell_type": "markdown",
      "source": [
        "* Caso I. Recursión sobre una función ordinaria"
      ],
      "metadata": {
        "id": "uGu2UybTIw6X"
      }
    },
    {
      "cell_type": "code",
      "source": [
        "def factorial(n):\n",
        "   if n == 1:\n",
        "       return n\n",
        "   else:\n",
        "       return n*factorial(n-1)"
      ],
      "metadata": {
        "id": "CnDAhb33AgQ1"
      },
      "execution_count": null,
      "outputs": []
    },
    {
      "cell_type": "code",
      "source": [
        "num = int(input('Intoduzca un entero '))\n",
        "\n",
        "# Recordemos que no hay factoriales para números negativos y que 0!=1\n",
        "\n",
        "if num < 0:\n",
        "   print(\"LO siento, no hay factoriales para enteros negativos\")\n",
        "elif num == 0:\n",
        "   print(\"El factorial de cero es 1\")\n",
        "else:\n",
        "   print(\"El factorial de\", num, \"is\", factorial(num))"
      ],
      "metadata": {
        "colab": {
          "base_uri": "https://localhost:8080/"
        },
        "id": "tIKUEjotJAUo",
        "outputId": "39a49a16-5618-4e82-fedb-800881fd701f"
      },
      "execution_count": null,
      "outputs": [
        {
          "output_type": "stream",
          "name": "stdout",
          "text": [
            "Intoduzca un entero 7\n",
            "El factorial de 7 is 5040\n"
          ]
        }
      ]
    },
    {
      "cell_type": "code",
      "source": [
        "x = lambda num : 1 if num <= 1 else num*x(num-1)"
      ],
      "metadata": {
        "id": "MNfFDkeJBO0e"
      },
      "execution_count": null,
      "outputs": []
    },
    {
      "cell_type": "code",
      "source": [
        "numero = int(input('Introduzca un entero, por favor: '))\n",
        "\n",
        "print('%d != %d' %(numero, x(numero)))"
      ],
      "metadata": {
        "colab": {
          "base_uri": "https://localhost:8080/"
        },
        "id": "cYZxOc4UKEVR",
        "outputId": "ef0c5510-3cc6-4f0c-851a-a22938059040"
      },
      "execution_count": null,
      "outputs": [
        {
          "output_type": "stream",
          "name": "stdout",
          "text": [
            "Introduzca un entero, por favor: 5\n",
            "5 != 120\n"
          ]
        }
      ]
    },
    {
      "cell_type": "markdown",
      "source": [
        "https://www.codesansar.com/python-programming-examples/one-line-code-find-factorial.htm"
      ],
      "metadata": {
        "id": "kNk5FOupBXgM"
      }
    }
  ]
}